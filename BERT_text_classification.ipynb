{
 "cells": [
  {
   "attachments": {},
   "cell_type": "markdown",
   "id": "08638bd5",
   "metadata": {},
   "source": [
    "# BERT tutorial"
   ]
  },
  {
   "attachments": {},
   "cell_type": "markdown",
   "id": "e962b11f",
   "metadata": {},
   "source": [
    "---"
   ]
  },
  {
   "attachments": {},
   "cell_type": "markdown",
   "id": "25d24be2",
   "metadata": {},
   "source": [
    "## Data preparation"
   ]
  },
  {
   "attachments": {},
   "cell_type": "markdown",
   "id": "141da210",
   "metadata": {},
   "source": [
    "### Load the dataset"
   ]
  },
  {
   "cell_type": "code",
   "execution_count": 152,
   "id": "ce36889e",
   "metadata": {},
   "outputs": [
    {
     "data": {
      "text/html": [
       "<div>\n",
       "<style scoped>\n",
       "    .dataframe tbody tr th:only-of-type {\n",
       "        vertical-align: middle;\n",
       "    }\n",
       "\n",
       "    .dataframe tbody tr th {\n",
       "        vertical-align: top;\n",
       "    }\n",
       "\n",
       "    .dataframe thead th {\n",
       "        text-align: right;\n",
       "    }\n",
       "</style>\n",
       "<table border=\"1\" class=\"dataframe\">\n",
       "  <thead>\n",
       "    <tr style=\"text-align: right;\">\n",
       "      <th></th>\n",
       "      <th>filename</th>\n",
       "      <th>category</th>\n",
       "      <th>topic</th>\n",
       "      <th>text</th>\n",
       "    </tr>\n",
       "  </thead>\n",
       "  <tbody>\n",
       "    <tr>\n",
       "      <th>0</th>\n",
       "      <td>writeup_0wcYN1wDDobsfFzHF7Npz_tagged.txt</td>\n",
       "      <td>web_exploitation</td>\n",
       "      <td>overview</td>\n",
       "      <td>This challenge was a SQL injection challenge w...</td>\n",
       "    </tr>\n",
       "    <tr>\n",
       "      <th>1</th>\n",
       "      <td>writeup_0wcYN1wDDobsfFzHF7Npz_tagged.txt</td>\n",
       "      <td>web_exploitation</td>\n",
       "      <td>attack_execution</td>\n",
       "      <td>We started by entering a random username and p...</td>\n",
       "    </tr>\n",
       "    <tr>\n",
       "      <th>2</th>\n",
       "      <td>writeup_0wcYN1wDDobsfFzHF7Npz_tagged.txt</td>\n",
       "      <td>web_exploitation</td>\n",
       "      <td>analysis</td>\n",
       "      <td>Lessons Learned: SQL injection can be a danger...</td>\n",
       "    </tr>\n",
       "    <tr>\n",
       "      <th>3</th>\n",
       "      <td>writeup_87UfUw9vx6wZmcPf72YHN_tagged.txt</td>\n",
       "      <td>web_exploitation</td>\n",
       "      <td>analysis</td>\n",
       "      <td>We can start by looking for input fields on th...</td>\n",
       "    </tr>\n",
       "    <tr>\n",
       "      <th>4</th>\n",
       "      <td>writeup_87UfUw9vx6wZmcPf72YHN_tagged.txt</td>\n",
       "      <td>web_exploitation</td>\n",
       "      <td>attack_execution</td>\n",
       "      <td>We can start by injecting a simple file path i...</td>\n",
       "    </tr>\n",
       "  </tbody>\n",
       "</table>\n",
       "</div>"
      ],
      "text/plain": [
       "                                   filename          category  \\\n",
       "0  writeup_0wcYN1wDDobsfFzHF7Npz_tagged.txt  web_exploitation   \n",
       "1  writeup_0wcYN1wDDobsfFzHF7Npz_tagged.txt  web_exploitation   \n",
       "2  writeup_0wcYN1wDDobsfFzHF7Npz_tagged.txt  web_exploitation   \n",
       "3  writeup_87UfUw9vx6wZmcPf72YHN_tagged.txt  web_exploitation   \n",
       "4  writeup_87UfUw9vx6wZmcPf72YHN_tagged.txt  web_exploitation   \n",
       "\n",
       "              topic                                               text  \n",
       "0          overview  This challenge was a SQL injection challenge w...  \n",
       "1  attack_execution  We started by entering a random username and p...  \n",
       "2          analysis  Lessons Learned: SQL injection can be a danger...  \n",
       "3          analysis  We can start by looking for input fields on th...  \n",
       "4  attack_execution  We can start by injecting a simple file path i...  "
      ]
     },
     "execution_count": 152,
     "metadata": {},
     "output_type": "execute_result"
    }
   ],
   "source": [
    "import pandas as pd\n",
    "\n",
    "df = pd.read_csv(\"./dataset_writeups/dataset_writeups.csv\")\n",
    "df.head()"
   ]
  },
  {
   "cell_type": "code",
   "execution_count": 153,
   "id": "ecb100ad",
   "metadata": {},
   "outputs": [
    {
     "data": {
      "text/plain": [
       "attack_execution    55\n",
       "analysis            50\n",
       "overview            19\n",
       "Name: topic, dtype: int64"
      ]
     },
     "execution_count": 153,
     "metadata": {},
     "output_type": "execute_result"
    }
   ],
   "source": [
    "df[\"topic\"].value_counts()"
   ]
  },
  {
   "cell_type": "code",
   "execution_count": 154,
   "id": "01f66053",
   "metadata": {},
   "outputs": [
    {
     "data": {
      "image/png": "[encoded data removed]",
      "text/plain": [
       "<Figure size 400x400 with 1 Axes>"
      ]
     },
     "metadata": {},
     "output_type": "display_data"
    }
   ],
   "source": [
    "import numpy as np\n",
    "import matplotlib.pyplot as plt\n",
    "\n",
    "plt.style.use(\"ggplot\")\n",
    "num_classes = len(df[\"topic\"].value_counts())\n",
    "colors = plt.cm.Dark2(np.linspace(0, 1, num_classes))\n",
    "iter_color = iter(colors)\n",
    "df[\"topic\"].value_counts().plot.barh(title=\"Writeups for each topic (n, %)\", \n",
    "                                                 ylabel=\"Topics\",\n",
    "                                                 color=colors,\n",
    "                                                 figsize=(4,4))\n",
    "\n",
    "for i, v in enumerate(df[\"topic\"].value_counts()):\n",
    "  c = next(iter_color)\n",
    "  plt.text(v, i,\n",
    "           \" \"+str(v)+\", \"+str(round(v*100/df.shape[0],2))+\"%\", \n",
    "           color=c, \n",
    "           va=\"center\", \n",
    "           fontweight=\"bold\")"
   ]
  },
  {
   "attachments": {},
   "cell_type": "markdown",
   "id": "0f74348c",
   "metadata": {},
   "source": [
    "For the purpose of classification, we need numeric labels. Therefore, we map the topics descriptions to integers as follows:"
   ]
  },
  {
   "cell_type": "code",
   "execution_count": 155,
   "id": "e1fa4aff",
   "metadata": {},
   "outputs": [
    {
     "data": {
      "text/plain": [
       "2    55\n",
       "1    50\n",
       "0    19\n",
       "Name: label, dtype: int64"
      ]
     },
     "execution_count": 155,
     "metadata": {},
     "output_type": "execute_result"
    }
   ],
   "source": [
    "# map topics descriptions to labels\n",
    "df[\"label\"] = df[\"topic\"].map({\"overview\": 0,\n",
    "                                \"analysis\": 1,\n",
    "                                \"attack_execution\": 2})\n",
    "# drop unused column\n",
    "df = df.drop([\"topic\"], axis=1)\n",
    "\n",
    "df[\"label\"].value_counts()"
   ]
  },
  {
   "attachments": {},
   "cell_type": "markdown",
   "id": "e1895fdd",
   "metadata": {},
   "source": [
    "### [Optional] Observe random samples"
   ]
  },
  {
   "attachments": {},
   "cell_type": "markdown",
   "id": "ad114108",
   "metadata": {},
   "source": [
    "Although it is not strictly necessary to the goal of text classification, we might want to inspect some random samples from different topics to develop a better understanding of the data."
   ]
  },
  {
   "cell_type": "code",
   "execution_count": 156,
   "id": "42b42d6e",
   "metadata": {},
   "outputs": [],
   "source": [
    "def print_rand_sample(df, col_name, col_value, chars=180):\n",
    "  '''print a random sample\n",
    "  Args:\n",
    "    - df: input dataframe\n",
    "    - col_name: column to use as filter (e.g. label)\n",
    "    - col_value: value of col_name to use as filter \n",
    "    - chars (optional, def:180) max number of characters to display\n",
    "  '''\n",
    "  text = df[df[col_name]==col_value].sample()[\"text\"].values[0]\n",
    "  print(f\"{col_value}: {text[0:chars]} ...\\n\")"
   ]
  },
  {
   "cell_type": "code",
   "execution_count": 159,
   "id": "8df33161",
   "metadata": {},
   "outputs": [
    {
     "name": "stdout",
     "output_type": "stream",
     "text": [
      "0: The challenge involves exploiting a website that hasn't been fully finished to find a flag. We can change the user agent of our browser using a browser extension or by modifying th ...\n",
      "\n",
      "1: We can view the cookie using our browser's developer tools or a tool like Burp Suite. We can see that the cookie has a name of `name` and a value that corresponds to the option we  ...\n",
      "\n",
      "2: To exploit the vulnerability, we can enter a wildcard character \"%\" as the username and password. When we do that, we get a message saying \"Only the admin is allowed to log in!\". T ...\n",
      "\n"
     ]
    }
   ],
   "source": [
    "num_labels = len(df[\"label\"].unique())\n",
    "for label_idx in range(num_labels):\n",
    "    print_rand_sample(df, \"label\", label_idx)"
   ]
  },
  {
   "attachments": {},
   "cell_type": "markdown",
   "id": "42141ccb",
   "metadata": {},
   "source": [
    "### Split in train and test set"
   ]
  },
  {
   "cell_type": "code",
   "execution_count": 160,
   "id": "1945d21a",
   "metadata": {},
   "outputs": [
    {
     "data": {
      "text/plain": [
       "67     The challenge presents a login page that accep...\n",
       "12     We can start by looking for input fields on th...\n",
       "24     To exploit the vulnerability, we can enter \"lo...\n",
       "45     The challenge involves exploiting cookies to g...\n",
       "107    We can intercept this request using Burp Suite...\n",
       "Name: text, dtype: object"
      ]
     },
     "execution_count": 160,
     "metadata": {},
     "output_type": "execute_result"
    }
   ],
   "source": [
    "import tensorflow as tf\n",
    "from sklearn.model_selection import train_test_split\n",
    "\n",
    "y = tf.keras.utils.to_categorical(df[\"label\"].values, num_classes=num_classes)\n",
    "# split the dataset into a train set (80%) and a temporary set (20%)\n",
    "X_train, X_temp, y_train, y_temp = train_test_split(df[\"text\"], y, test_size=0.2, random_state=42)\n",
    "# split the temporary set into a validation set (10%) and a test set (10%)\n",
    "X_val, X_test, y_val, y_test = train_test_split(X_temp, y_temp, test_size=0.5, random_state=42)\n",
    "\n",
    "X_train.head()"
   ]
  },
  {
   "attachments": {},
   "cell_type": "markdown",
   "id": "7ff060bb",
   "metadata": {},
   "source": [
    "---"
   ]
  },
  {
   "attachments": {},
   "cell_type": "markdown",
   "id": "866f9039",
   "metadata": {},
   "source": [
    "## Data modeling"
   ]
  },
  {
   "attachments": {},
   "cell_type": "markdown",
   "id": "5753127b",
   "metadata": {},
   "source": [
    "### Load BERT with TensorFlow Hub"
   ]
  },
  {
   "attachments": {},
   "cell_type": "markdown",
   "id": "80fcbe39",
   "metadata": {},
   "source": [
    "We make use of the universal-sentence-encoder-cmlm/multilingual-base model, a universal sentence encoder that supports more than 100 languages. It is trained using a conditional masked language model, as described in the reference paper."
   ]
  },
  {
   "attachments": {},
   "cell_type": "markdown",
   "id": "0d0bed4d",
   "metadata": {},
   "source": [
    "What we want to achieve is to turn text into high-dimensional vectors that capture sentence-level semantics. Therefore, we proceed by loading the preprocessor and the encoder layers from the endpoints provided by TensorFlow Hub, and define a simple function to get the embeddings from input text."
   ]
  },
  {
   "cell_type": "code",
   "execution_count": 161,
   "id": "9af60802",
   "metadata": {},
   "outputs": [],
   "source": [
    "#! pip install tensorflow-text\n",
    "import tensorflow_hub as tf_hub\n",
    "import tensorflow_text as tf_text\n",
    "\n",
    "preprocessor_url = \"https://tfhub.dev/tensorflow/bert_en_uncased_preprocess/3\" # \"https://tfhub.dev/tensorflow/bert_en_uncased_preprocess/3\"\n",
    "encoder_url = \"https://tfhub.dev/google/universal-sentence-encoder-cmlm/en-large/1\" # \"https://tfhub.dev/tensorflow/bert_en_uncased_L-12_H-768_A-12/4\"\n",
    "\n",
    "bert_preprocessor = tf_hub.KerasLayer(preprocessor_url)\n",
    "bert_encoder = tf_hub.KerasLayer(encoder_url)"
   ]
  },
  {
   "attachments": {},
   "cell_type": "markdown",
   "id": "c5cc5349",
   "metadata": {},
   "source": [
    "As the model is based on the BERT transformer architecture, it will generate a pooled_output (output embedding of the entire sequence) of shape [batch size, 768], as displayed in the following example:"
   ]
  },
  {
   "cell_type": "code",
   "execution_count": 162,
   "id": "26036d96",
   "metadata": {},
   "outputs": [
    {
     "data": {
      "text/plain": [
       "<tf.Tensor: shape=(1, 1024), dtype=float32, numpy=\n",
       "array([[ 0.0731841 ,  0.02042833,  0.31886306, ..., -0.7665954 ,\n",
       "        -0.25669706, -1.1481299 ]], dtype=float32)>"
      ]
     },
     "execution_count": 162,
     "metadata": {},
     "output_type": "execute_result"
    }
   ],
   "source": [
    "def get_embeddings(sentences):\n",
    "\t'''return BERT-like embeddings of input text\n",
    "\tArgs:\n",
    "\t\t- sentences: list of strings\n",
    "\tOutput:\n",
    "\t\t- BERT-like embeddings: tf.Tensor of shape=(len(sentences), 768)\n",
    "\t'''\n",
    "\treturn bert_encoder(bert_preprocessor(sentences))[\"pooled_output\"]\n",
    "\n",
    "get_embeddings(\n",
    "\t[\"This is just a sentence to test the latter function.\"]\n",
    ")"
   ]
  },
  {
   "attachments": {},
   "cell_type": "markdown",
   "id": "ed18be91",
   "metadata": {},
   "source": [
    "### [Optional] Observe semantic textual similarities"
   ]
  },
  {
   "attachments": {},
   "cell_type": "markdown",
   "id": "7ea99cc1",
   "metadata": {},
   "source": [
    "As the embeddings provide a vector representation of sentence-level semantics, we might want to observe the similarities between different sentences."
   ]
  },
  {
   "cell_type": "code",
   "execution_count": 163,
   "id": "11e113ee",
   "metadata": {},
   "outputs": [],
   "source": [
    "import seaborn as sns\n",
    "from sklearn.metrics.pairwise import cosine_similarity\n",
    "\n",
    "def plot_similarity(features, sentences):\n",
    "\t\"\"\"Plot a similarity matrix of the embeddings.\"\"\"\n",
    "\tcos_sim = cosine_similarity(features)\n",
    "\tfig = plt.figure(figsize=(5, 5))\n",
    "\tsns.set(font_scale=1)\n",
    "\tcbar_kws=dict(use_gridspec=False, location=\"left\")\n",
    "\tg = sns.heatmap(\n",
    "\t\tcos_sim, xticklabels=sentences, yticklabels=sentences,\n",
    "\t\tvmin=0, vmax=1, annot=True, cmap=\"Blues\", \n",
    "\t\tcbar_kws=cbar_kws)\n",
    "\tg.tick_params(labelright=True, labelleft=False)\n",
    "\tg.set_yticklabels(sentences, rotation=0)\n",
    "\tg.set_title(\"Semantic Textual Similarity\")"
   ]
  },
  {
   "cell_type": "code",
   "execution_count": 74,
   "id": "019c69e3",
   "metadata": {},
   "outputs": [
    {
     "data": {
      "image/png": "[encoded data removed]",
      "text/plain": [
       "<Figure size 500x500 with 2 Axes>"
      ]
     },
     "metadata": {},
     "output_type": "display_data"
    }
   ],
   "source": [
    "sample_sentences = [\n",
    "    \"This is a sample of sentence.\",\n",
    "    \"This is a sample of sentence with some changes compared to the previous.\",\n",
    "    \"Neque porro quisquam est qui dolorem ipsum quia dolor sit amet...\"\n",
    "]\n",
    "\n",
    "plot_similarity(get_embeddings(sample_sentences), sample_sentences)"
   ]
  },
  {
   "attachments": {},
   "cell_type": "markdown",
   "id": "c9efc11e",
   "metadata": {},
   "source": [
    "### Create and train the classification model"
   ]
  },
  {
   "attachments": {},
   "cell_type": "markdown",
   "id": "de9cf5fd",
   "metadata": {},
   "source": [
    "As we are facing a multi-class classification problem, and we previously noticed that our topics distribution is slightly imbalanced, we might want to observe different metrics during model training."
   ]
  },
  {
   "attachments": {},
   "cell_type": "markdown",
   "id": "c8629042",
   "metadata": {},
   "source": [
    "For this reason, we define functions to calculate, respectively, precision, recall, and F1 score for each class during training, and then return the average value over the classes:"
   ]
  },
  {
   "cell_type": "code",
   "execution_count": 164,
   "id": "6d23b91d",
   "metadata": {},
   "outputs": [],
   "source": [
    "from keras import backend as K\n",
    "\n",
    "def balanced_recall(y_true, y_pred):\n",
    "    \"\"\"This function calculates the balanced recall metric\n",
    "    recall = TP / (TP + FN)\n",
    "    \"\"\"\n",
    "    recall_by_class = 0\n",
    "    # iterate over each predicted class to get class-specific metric\n",
    "    for i in range(y_pred.shape[1]):\n",
    "        y_pred_class = y_pred[:, i]\n",
    "        y_true_class = y_true[:, i]\n",
    "        true_positives = K.sum(K.round(K.clip(y_true_class * y_pred_class, 0, 1)))\n",
    "        possible_positives = K.sum(K.round(K.clip(y_true_class, 0, 1)))\n",
    "        recall = true_positives / (possible_positives + K.epsilon())\n",
    "        recall_by_class = recall_by_class + recall\n",
    "    return recall_by_class / y_pred.shape[1]\n",
    "\n",
    "def balanced_precision(y_true, y_pred):\n",
    "    \"\"\"This function calculates the balanced precision metric\n",
    "    precision = TP / (TP + FP)\n",
    "    \"\"\"\n",
    "    precision_by_class = 0\n",
    "    # iterate over each predicted class to get class-specific metric\n",
    "    for i in range(y_pred.shape[1]):\n",
    "        y_pred_class = y_pred[:, i]\n",
    "        y_true_class = y_true[:, i]\n",
    "        true_positives = K.sum(K.round(K.clip(y_true_class * y_pred_class, 0, 1)))\n",
    "        predicted_positives = K.sum(K.round(K.clip(y_pred_class, 0, 1)))\n",
    "        precision = true_positives / (predicted_positives + K.epsilon())\n",
    "        precision_by_class = precision_by_class + precision\n",
    "    # return average balanced metric for each class\n",
    "    return precision_by_class / y_pred.shape[1]\n",
    "\n",
    "def balanced_f1_score(y_true, y_pred):\n",
    "    \"\"\"This function calculates the F1 score metric\"\"\"\n",
    "    precision = balanced_precision(y_true, y_pred)\n",
    "    recall = balanced_recall(y_true, y_pred)\n",
    "    return 2 * ((precision * recall) / (precision + recall + K.epsilon()))"
   ]
  },
  {
   "attachments": {},
   "cell_type": "markdown",
   "id": "ffd9d252",
   "metadata": {},
   "source": [
    "We now define a model as the preprocessor and encoder layers followed by a dropout and a dense layer with a softmax activation function and an output space dimensionality equal to the number of classes we want to predict:"
   ]
  },
  {
   "cell_type": "code",
   "execution_count": 165,
   "id": "3d018d2e",
   "metadata": {},
   "outputs": [],
   "source": [
    "i = tf.keras.layers.Input(shape=(), dtype=tf.string, name='text')\n",
    "x = bert_preprocessor(i)\n",
    "x = bert_encoder(x)\n",
    "x = tf.keras.layers.Dropout(0.2, name=\"dropout\")(x['pooled_output'])\n",
    "x = tf.keras.layers.Dense(num_classes, activation='softmax', name=\"output\")(x)\n",
    "\n",
    "model = tf.keras.Model(i, x)"
   ]
  },
  {
   "attachments": {},
   "cell_type": "markdown",
   "id": "e7c74001",
   "metadata": {},
   "source": [
    "Verify GPU support"
   ]
  },
  {
   "cell_type": "code",
   "execution_count": null,
   "id": "e0f4e8a0",
   "metadata": {},
   "outputs": [],
   "source": [
    "if tf.config.list_physical_devices(\"GPU\"):\n",
    "    print(\"GPU is available.\")\n",
    "else:\n",
    "    print(\"GPU is not available.\")"
   ]
  },
  {
   "attachments": {},
   "cell_type": "markdown",
   "id": "9185160a",
   "metadata": {},
   "source": [
    "Once we have defined the model's structure, we can compile and fit it. We choose to train the model for 20 epochs, but we also use the EarlyStopping callback in order to monitor the validation loss during training: if the metric does not improve for at least 3 epochs (patience = 3), the training is interrupted and the weights from the epoch where the validation loss showed the best value (i.e. lowest) are restored (restore_best_weights = True):"
   ]
  },
  {
   "cell_type": "code",
   "execution_count": 166,
   "id": "7c53bded",
   "metadata": {},
   "outputs": [
    {
     "name": "stdout",
     "output_type": "stream",
     "text": [
      "Epoch 1/20\n",
      "4/4 [==============================] - 76s 12s/step - loss: 1.1751 - accuracy: 0.4949 - balanced_recall: 0.2219 - balanced_precision: 0.2900 - balanced_f1_score: 0.2457 - val_loss: 0.8837 - val_accuracy: 0.5385 - val_balanced_recall: 0.2222 - val_balanced_precision: 0.2857 - val_balanced_f1_score: 0.2500\n",
      "Epoch 2/20\n",
      "4/4 [==============================] - 45s 11s/step - loss: 0.9609 - accuracy: 0.5152 - balanced_recall: 0.3709 - balanced_precision: 0.5366 - balanced_f1_score: 0.4302 - val_loss: 0.7790 - val_accuracy: 0.6154 - val_balanced_recall: 0.5556 - val_balanced_precision: 0.5000 - val_balanced_f1_score: 0.5263\n",
      "Epoch 3/20\n",
      "4/4 [==============================] - 45s 10s/step - loss: 0.8116 - accuracy: 0.6263 - balanced_recall: 0.4292 - balanced_precision: 0.5868 - balanced_f1_score: 0.4917 - val_loss: 0.6870 - val_accuracy: 0.6154 - val_balanced_recall: 0.5556 - val_balanced_precision: 0.5000 - val_balanced_f1_score: 0.5263\n",
      "Epoch 4/20\n",
      "4/4 [==============================] - 43s 10s/step - loss: 0.7360 - accuracy: 0.6667 - balanced_recall: 0.4283 - balanced_precision: 0.5350 - balanced_f1_score: 0.4738 - val_loss: 0.5742 - val_accuracy: 0.7692 - val_balanced_recall: 0.7778 - val_balanced_precision: 0.8889 - val_balanced_f1_score: 0.8296\n",
      "Epoch 5/20\n",
      "4/4 [==============================] - 42s 10s/step - loss: 0.6971 - accuracy: 0.6768 - balanced_recall: 0.4559 - balanced_precision: 0.4610 - balanced_f1_score: 0.4576 - val_loss: 0.5364 - val_accuracy: 0.7692 - val_balanced_recall: 0.8889 - val_balanced_precision: 0.8667 - val_balanced_f1_score: 0.8776\n",
      "Epoch 6/20\n",
      "4/4 [==============================] - 44s 10s/step - loss: 0.6290 - accuracy: 0.7677 - balanced_recall: 0.6041 - balanced_precision: 0.6095 - balanced_f1_score: 0.6024 - val_loss: 0.5419 - val_accuracy: 0.7692 - val_balanced_recall: 0.8889 - val_balanced_precision: 0.8333 - val_balanced_f1_score: 0.8602\n",
      "Epoch 7/20\n",
      "4/4 [==============================] - 44s 10s/step - loss: 0.5426 - accuracy: 0.7576 - balanced_recall: 0.6043 - balanced_precision: 0.6672 - balanced_f1_score: 0.6247 - val_loss: 0.5289 - val_accuracy: 0.7692 - val_balanced_recall: 0.7778 - val_balanced_precision: 0.8333 - val_balanced_f1_score: 0.8046\n",
      "Epoch 8/20\n",
      "4/4 [==============================] - 45s 11s/step - loss: 0.5416 - accuracy: 0.7576 - balanced_recall: 0.6602 - balanced_precision: 0.7252 - balanced_f1_score: 0.6840 - val_loss: 0.5288 - val_accuracy: 0.7692 - val_balanced_recall: 0.7778 - val_balanced_precision: 0.7222 - val_balanced_f1_score: 0.7490\n",
      "Epoch 9/20\n",
      "4/4 [==============================] - 44s 11s/step - loss: 0.4475 - accuracy: 0.8081 - balanced_recall: 0.7510 - balanced_precision: 0.8237 - balanced_f1_score: 0.7837 - val_loss: 0.5242 - val_accuracy: 0.7692 - val_balanced_recall: 0.5926 - val_balanced_precision: 0.4444 - val_balanced_f1_score: 0.5079\n",
      "Epoch 10/20\n",
      "4/4 [==============================] - 45s 11s/step - loss: 0.4410 - accuracy: 0.8182 - balanced_recall: 0.6788 - balanced_precision: 0.7137 - balanced_f1_score: 0.6956 - val_loss: 0.4805 - val_accuracy: 0.7692 - val_balanced_recall: 0.5926 - val_balanced_precision: 0.5000 - val_balanced_f1_score: 0.5424\n",
      "Epoch 11/20\n",
      "4/4 [==============================] - 47s 11s/step - loss: 0.4548 - accuracy: 0.8081 - balanced_recall: 0.6692 - balanced_precision: 0.6530 - balanced_f1_score: 0.6536 - val_loss: 0.4240 - val_accuracy: 0.8462 - val_balanced_recall: 0.8148 - val_balanced_precision: 0.7222 - val_balanced_f1_score: 0.7657\n",
      "Epoch 12/20\n",
      "4/4 [==============================] - 49s 12s/step - loss: 0.3950 - accuracy: 0.8384 - balanced_recall: 0.7101 - balanced_precision: 0.7891 - balanced_f1_score: 0.7466 - val_loss: 0.4006 - val_accuracy: 0.9231 - val_balanced_recall: 0.9259 - val_balanced_precision: 0.9167 - val_balanced_f1_score: 0.9213\n",
      "Epoch 13/20\n",
      "4/4 [==============================] - 44s 11s/step - loss: 0.3732 - accuracy: 0.8283 - balanced_recall: 0.7229 - balanced_precision: 0.8445 - balanced_f1_score: 0.7772 - val_loss: 0.3757 - val_accuracy: 0.9231 - val_balanced_recall: 0.9630 - val_balanced_precision: 0.9167 - val_balanced_f1_score: 0.9392\n",
      "Epoch 14/20\n",
      "4/4 [==============================] - 42s 10s/step - loss: 0.4068 - accuracy: 0.8485 - balanced_recall: 0.7443 - balanced_precision: 0.8228 - balanced_f1_score: 0.7801 - val_loss: 0.3563 - val_accuracy: 0.8462 - val_balanced_recall: 0.8519 - val_balanced_precision: 0.7222 - val_balanced_f1_score: 0.7817\n",
      "Epoch 15/20\n",
      "4/4 [==============================] - 43s 10s/step - loss: 0.3901 - accuracy: 0.8384 - balanced_recall: 0.6809 - balanced_precision: 0.7070 - balanced_f1_score: 0.6763 - val_loss: 0.3628 - val_accuracy: 0.8462 - val_balanced_recall: 0.8519 - val_balanced_precision: 0.7222 - val_balanced_f1_score: 0.7817\n",
      "Epoch 16/20\n",
      "4/4 [==============================] - 43s 10s/step - loss: 0.3322 - accuracy: 0.8788 - balanced_recall: 0.7896 - balanced_precision: 0.8414 - balanced_f1_score: 0.8135 - val_loss: 0.4248 - val_accuracy: 0.8462 - val_balanced_recall: 0.8519 - val_balanced_precision: 0.7222 - val_balanced_f1_score: 0.7817\n",
      "Epoch 17/20\n",
      "4/4 [==============================] - 44s 11s/step - loss: 0.3363 - accuracy: 0.9192 - balanced_recall: 0.9115 - balanced_precision: 0.9389 - balanced_f1_score: 0.9247 - val_loss: 0.4725 - val_accuracy: 0.8462 - val_balanced_recall: 0.7407 - val_balanced_precision: 0.6667 - val_balanced_f1_score: 0.7018\n"
     ]
    }
   ],
   "source": [
    "n_epochs = 20\n",
    "\n",
    "METRICS = [\n",
    "      tf.keras.metrics.CategoricalAccuracy(name=\"accuracy\"),\n",
    "      balanced_recall,\n",
    "      balanced_precision,\n",
    "      balanced_f1_score\n",
    "]\n",
    "\n",
    "earlystop_callback = tf.keras.callbacks.EarlyStopping(monitor = \"val_loss\", \n",
    "                                                      patience = 3,\n",
    "                                                      restore_best_weights = True)\n",
    "\n",
    "model.compile(optimizer = \"adam\",\n",
    "              loss = \"categorical_crossentropy\",\n",
    "              metrics = METRICS)\n",
    "\n",
    "model_fit = model.fit(X_train, \n",
    "                      y_train, \n",
    "                      epochs = n_epochs,\n",
    "                      validation_data = (X_test, y_test),\n",
    "                      callbacks = [earlystop_callback])"
   ]
  },
  {
   "attachments": {},
   "cell_type": "markdown",
   "id": "31b93036",
   "metadata": {},
   "source": [
    "We can finally plot the values assumed by each monitored metric during the training procedure, and compare the training and validation curves:"
   ]
  },
  {
   "cell_type": "code",
   "execution_count": 168,
   "id": "32e29e64",
   "metadata": {},
   "outputs": [
    {
     "ename": "ValueError",
     "evalue": "x and y must have same first dimension, but have shapes (20,) and (17,)",
     "output_type": "error",
     "traceback": [
      "\u001b[1;31m---------------------------------------------------------------------------\u001b[0m",
      "\u001b[1;31mValueError\u001b[0m                                Traceback (most recent call last)",
      "Cell \u001b[1;32mIn[168], line 8\u001b[0m\n\u001b[0;32m      5\u001b[0m fig, ax \u001b[39m=\u001b[39m plt\u001b[39m.\u001b[39msubplots(nrows\u001b[39m=\u001b[39m\u001b[39m1\u001b[39m, ncols\u001b[39m=\u001b[39mnum_metrics, figsize\u001b[39m=\u001b[39m(\u001b[39m30\u001b[39m, \u001b[39m5\u001b[39m))\n\u001b[0;32m      7\u001b[0m \u001b[39mfor\u001b[39;00m i \u001b[39min\u001b[39;00m \u001b[39mrange\u001b[39m(\u001b[39m0\u001b[39m, num_metrics):\n\u001b[1;32m----> 8\u001b[0m   ax[i]\u001b[39m.\u001b[39;49mplot(x, model_fit\u001b[39m.\u001b[39;49mhistory[metric_list[i]], marker\u001b[39m=\u001b[39;49m\u001b[39m\"\u001b[39;49m\u001b[39mo\u001b[39;49m\u001b[39m\"\u001b[39;49m, label\u001b[39m=\u001b[39;49mmetric_list[i]\u001b[39m.\u001b[39;49mreplace(\u001b[39m\"\u001b[39;49m\u001b[39m_\u001b[39;49m\u001b[39m\"\u001b[39;49m, \u001b[39m\"\u001b[39;49m\u001b[39m \u001b[39;49m\u001b[39m\"\u001b[39;49m))\n\u001b[0;32m      9\u001b[0m   ax[i]\u001b[39m.\u001b[39mplot(x, model_fit\u001b[39m.\u001b[39mhistory[metric_list[i\u001b[39m+\u001b[39mnum_metrics]], marker\u001b[39m=\u001b[39m\u001b[39m\"\u001b[39m\u001b[39mo\u001b[39m\u001b[39m\"\u001b[39m, label\u001b[39m=\u001b[39mmetric_list[i\u001b[39m+\u001b[39mnum_metrics]\u001b[39m.\u001b[39mreplace(\u001b[39m\"\u001b[39m\u001b[39m_\u001b[39m\u001b[39m\"\u001b[39m, \u001b[39m\"\u001b[39m\u001b[39m \u001b[39m\u001b[39m\"\u001b[39m))\n\u001b[0;32m     10\u001b[0m   ax[i]\u001b[39m.\u001b[39mset_xlabel(\u001b[39m\"\u001b[39m\u001b[39mepochs\u001b[39m\u001b[39m\"\u001b[39m,fontsize\u001b[39m=\u001b[39m\u001b[39m14\u001b[39m)\n",
      "File \u001b[1;32mc:\\Users\\franc\\anaconda3\\envs\\BERT\\lib\\site-packages\\matplotlib\\axes\\_axes.py:1688\u001b[0m, in \u001b[0;36mAxes.plot\u001b[1;34m(self, scalex, scaley, data, *args, **kwargs)\u001b[0m\n\u001b[0;32m   1445\u001b[0m \u001b[39m\"\"\"\u001b[39;00m\n\u001b[0;32m   1446\u001b[0m \u001b[39mPlot y versus x as lines and/or markers.\u001b[39;00m\n\u001b[0;32m   1447\u001b[0m \n\u001b[1;32m   (...)\u001b[0m\n\u001b[0;32m   1685\u001b[0m \u001b[39m(``'green'``) or hex strings (``'#008000'``).\u001b[39;00m\n\u001b[0;32m   1686\u001b[0m \u001b[39m\"\"\"\u001b[39;00m\n\u001b[0;32m   1687\u001b[0m kwargs \u001b[39m=\u001b[39m cbook\u001b[39m.\u001b[39mnormalize_kwargs(kwargs, mlines\u001b[39m.\u001b[39mLine2D)\n\u001b[1;32m-> 1688\u001b[0m lines \u001b[39m=\u001b[39m [\u001b[39m*\u001b[39m\u001b[39mself\u001b[39m\u001b[39m.\u001b[39m_get_lines(\u001b[39m*\u001b[39margs, data\u001b[39m=\u001b[39mdata, \u001b[39m*\u001b[39m\u001b[39m*\u001b[39mkwargs)]\n\u001b[0;32m   1689\u001b[0m \u001b[39mfor\u001b[39;00m line \u001b[39min\u001b[39;00m lines:\n\u001b[0;32m   1690\u001b[0m     \u001b[39mself\u001b[39m\u001b[39m.\u001b[39madd_line(line)\n",
      "File \u001b[1;32mc:\\Users\\franc\\anaconda3\\envs\\BERT\\lib\\site-packages\\matplotlib\\axes\\_base.py:311\u001b[0m, in \u001b[0;36m_process_plot_var_args.__call__\u001b[1;34m(self, data, *args, **kwargs)\u001b[0m\n\u001b[0;32m    309\u001b[0m     this \u001b[39m+\u001b[39m\u001b[39m=\u001b[39m args[\u001b[39m0\u001b[39m],\n\u001b[0;32m    310\u001b[0m     args \u001b[39m=\u001b[39m args[\u001b[39m1\u001b[39m:]\n\u001b[1;32m--> 311\u001b[0m \u001b[39myield from\u001b[39;00m \u001b[39mself\u001b[39;49m\u001b[39m.\u001b[39;49m_plot_args(\n\u001b[0;32m    312\u001b[0m     this, kwargs, ambiguous_fmt_datakey\u001b[39m=\u001b[39;49mambiguous_fmt_datakey)\n",
      "File \u001b[1;32mc:\\Users\\franc\\anaconda3\\envs\\BERT\\lib\\site-packages\\matplotlib\\axes\\_base.py:504\u001b[0m, in \u001b[0;36m_process_plot_var_args._plot_args\u001b[1;34m(self, tup, kwargs, return_kwargs, ambiguous_fmt_datakey)\u001b[0m\n\u001b[0;32m    501\u001b[0m     \u001b[39mself\u001b[39m\u001b[39m.\u001b[39maxes\u001b[39m.\u001b[39myaxis\u001b[39m.\u001b[39mupdate_units(y)\n\u001b[0;32m    503\u001b[0m \u001b[39mif\u001b[39;00m x\u001b[39m.\u001b[39mshape[\u001b[39m0\u001b[39m] \u001b[39m!=\u001b[39m y\u001b[39m.\u001b[39mshape[\u001b[39m0\u001b[39m]:\n\u001b[1;32m--> 504\u001b[0m     \u001b[39mraise\u001b[39;00m \u001b[39mValueError\u001b[39;00m(\u001b[39mf\u001b[39m\u001b[39m\"\u001b[39m\u001b[39mx and y must have same first dimension, but \u001b[39m\u001b[39m\"\u001b[39m\n\u001b[0;32m    505\u001b[0m                      \u001b[39mf\u001b[39m\u001b[39m\"\u001b[39m\u001b[39mhave shapes \u001b[39m\u001b[39m{\u001b[39;00mx\u001b[39m.\u001b[39mshape\u001b[39m}\u001b[39;00m\u001b[39m and \u001b[39m\u001b[39m{\u001b[39;00my\u001b[39m.\u001b[39mshape\u001b[39m}\u001b[39;00m\u001b[39m\"\u001b[39m)\n\u001b[0;32m    506\u001b[0m \u001b[39mif\u001b[39;00m x\u001b[39m.\u001b[39mndim \u001b[39m>\u001b[39m \u001b[39m2\u001b[39m \u001b[39mor\u001b[39;00m y\u001b[39m.\u001b[39mndim \u001b[39m>\u001b[39m \u001b[39m2\u001b[39m:\n\u001b[0;32m    507\u001b[0m     \u001b[39mraise\u001b[39;00m \u001b[39mValueError\u001b[39;00m(\u001b[39mf\u001b[39m\u001b[39m\"\u001b[39m\u001b[39mx and y can be no greater than 2D, but have \u001b[39m\u001b[39m\"\u001b[39m\n\u001b[0;32m    508\u001b[0m                      \u001b[39mf\u001b[39m\u001b[39m\"\u001b[39m\u001b[39mshapes \u001b[39m\u001b[39m{\u001b[39;00mx\u001b[39m.\u001b[39mshape\u001b[39m}\u001b[39;00m\u001b[39m and \u001b[39m\u001b[39m{\u001b[39;00my\u001b[39m.\u001b[39mshape\u001b[39m}\u001b[39;00m\u001b[39m\"\u001b[39m)\n",
      "\u001b[1;31mValueError\u001b[0m: x and y must have same first dimension, but have shapes (20,) and (17,)"
     ]
    },
    {
     "data": {
      "image/png": "[encoded data removed]",
      "text/plain": [
       "<Figure size 3000x500 with 5 Axes>"
      ]
     },
     "metadata": {},
     "output_type": "display_data"
    }
   ],
   "source": [
    "x = list(range(1, n_epochs+1))\n",
    "metric_list = list(model_fit.history.keys())\n",
    "num_metrics = int(len(metric_list)/2)\n",
    "\n",
    "fig, ax = plt.subplots(nrows=1, ncols=num_metrics, figsize=(30, 5))\n",
    "\n",
    "for i in range(0, num_metrics):\n",
    "  ax[i].plot(x, model_fit.history[metric_list[i]], marker=\"o\", label=metric_list[i].replace(\"_\", \" \"))\n",
    "  ax[i].plot(x, model_fit.history[metric_list[i+num_metrics]], marker=\"o\", label=metric_list[i+num_metrics].replace(\"_\", \" \"))\n",
    "  ax[i].set_xlabel(\"epochs\",fontsize=14)\n",
    "  ax[i].set_title(metric_list[i].replace(\"_\", \" \"),fontsize=20)\n",
    "  ax[i].legend(loc=\"lower left\")"
   ]
  },
  {
   "attachments": {},
   "cell_type": "markdown",
   "id": "74f34767",
   "metadata": {},
   "source": [
    "### Predict"
   ]
  },
  {
   "attachments": {},
   "cell_type": "markdown",
   "id": "fff26061",
   "metadata": {},
   "source": [
    "The model is now ready, and it is time to test some predictions."
   ]
  },
  {
   "attachments": {},
   "cell_type": "markdown",
   "id": "6195ad3a",
   "metadata": {},
   "source": [
    "In order to test our assumption, we define a simple function wrapping model.predict. In particular, as we are attempting a classification between three possible labels, model.predict will return a numpy.ndarray of size three."
   ]
  },
  {
   "attachments": {},
   "cell_type": "markdown",
   "id": "16952ecf",
   "metadata": {},
   "source": [
    "The softmax activation function that we used in the last layer of the model provides, indeed, the discrete probability distribution over the target classes. Therefore, we can simply take the index associated to the higher probability (np.argmax) to infer the predicted label."
   ]
  },
  {
   "cell_type": "code",
   "execution_count": 169,
   "id": "d65357fb",
   "metadata": {},
   "outputs": [],
   "source": [
    "def predict_class(texts):\n",
    "  '''predict class of input text\n",
    "  Args:\n",
    "    - texts (list of strings)\n",
    "  Output:\n",
    "    - labels (list of int)\n",
    "  '''\n",
    "  return [np.argmax(pred) for pred in model.predict(texts)]"
   ]
  },
  {
   "attachments": {},
   "cell_type": "markdown",
   "id": "97d5602c",
   "metadata": {},
   "source": [
    "### Validation set evaluation"
   ]
  },
  {
   "attachments": {},
   "cell_type": "markdown",
   "id": "168458f0",
   "metadata": {},
   "source": [
    "We initially split the dataset in train and test set, but we used both during the training and validation procedure."
   ]
  },
  {
   "attachments": {},
   "cell_type": "markdown",
   "id": "6b828bf1",
   "metadata": {},
   "source": [
    "In order to fairly estimate our performances, we evaluate the quality of the predictions on a new dataset containing observations that were not “seen” by the model during training (validation set):"
   ]
  },
  {
   "cell_type": "code",
   "execution_count": 170,
   "id": "be7b08d4",
   "metadata": {},
   "outputs": [
    {
     "name": "stdout",
     "output_type": "stream",
     "text": [
      "1/1 [==============================] - 6s 6s/step\n",
      "              precision    recall  f1-score   support\n",
      "\n",
      "           1       1.00      1.00      1.00         5\n",
      "           2       1.00      1.00      1.00         7\n",
      "\n",
      "    accuracy                           1.00        12\n",
      "   macro avg       1.00      1.00      1.00        12\n",
      "weighted avg       1.00      1.00      1.00        12\n",
      "\n"
     ]
    }
   ],
   "source": [
    "from sklearn.metrics import classification_report\n",
    "\n",
    "# use the validation set for making predictions\n",
    "y_pred = predict_class(X_val)\n",
    "\n",
    "# convert the predicted labels into a NumPy array\n",
    "y_pred = np.array(y_pred)\n",
    "\n",
    "# check if the true labels are in multilabel-indicator format (one-hot encoded)\n",
    "if y_val.shape[1] > 1:\n",
    "    # convert to multiclass format\n",
    "    y_val_multiclass = np.argmax(y_val, axis=1)\n",
    "else:\n",
    "    y_val_multiclass = y_val    \n",
    "    \n",
    "# compare the predicted labels with the true labels\n",
    "print(classification_report(y_val_multiclass, y_pred))"
   ]
  },
  {
   "attachments": {},
   "cell_type": "markdown",
   "id": "72dcfc1b",
   "metadata": {},
   "source": [
    "---"
   ]
  },
  {
   "attachments": {},
   "cell_type": "markdown",
   "id": "37233852",
   "metadata": {},
   "source": [
    "## [Optional] Save and load the model for future use"
   ]
  },
  {
   "attachments": {},
   "cell_type": "markdown",
   "id": "1c148800",
   "metadata": {},
   "source": [
    "This task is not essential to the development of a text classification model, but it is still related to the Machine Learning problem, as we might want to save the model and load it as needed for future predictions."
   ]
  },
  {
   "cell_type": "code",
   "execution_count": 171,
   "id": "a01baab3",
   "metadata": {},
   "outputs": [
    {
     "name": "stderr",
     "output_type": "stream",
     "text": [
      "WARNING:absl:Found untraced functions such as restored_function_body, restored_function_body, restored_function_body, restored_function_body, restored_function_body while saving (showing 5 of 672). These functions will not be directly callable after loading.\n"
     ]
    },
    {
     "name": "stdout",
     "output_type": "stream",
     "text": [
      "INFO:tensorflow:Assets written to: ./models/text_classifier_v1\\assets\n"
     ]
    },
    {
     "name": "stderr",
     "output_type": "stream",
     "text": [
      "INFO:tensorflow:Assets written to: ./models/text_classifier_v1\\assets\n"
     ]
    }
   ],
   "source": [
    "model.save(\"./models/text_classifier_v1\")"
   ]
  },
  {
   "attachments": {},
   "cell_type": "markdown",
   "id": "7ed27322",
   "metadata": {},
   "source": [
    "We can now load the model as needed for future use:"
   ]
  },
  {
   "cell_type": "code",
   "execution_count": 141,
   "id": "c973e34d",
   "metadata": {},
   "outputs": [
    {
     "ename": "OSError",
     "evalue": "SavedModel file does not exist at: ./models/text_classifier_v1/assets/\\{saved_model.pbtxt|saved_model.pb}",
     "output_type": "error",
     "traceback": [
      "\u001b[1;31m---------------------------------------------------------------------------\u001b[0m",
      "\u001b[1;31mOSError\u001b[0m                                   Traceback (most recent call last)",
      "Cell \u001b[1;32mIn[141], line 4\u001b[0m\n\u001b[0;32m      1\u001b[0m \u001b[39mfrom\u001b[39;00m \u001b[39mtensorflow\u001b[39;00m \u001b[39mimport\u001b[39;00m keras\n\u001b[0;32m      3\u001b[0m \u001b[39m# load model\u001b[39;00m\n\u001b[1;32m----> 4\u001b[0m new_model \u001b[39m=\u001b[39m keras\u001b[39m.\u001b[39;49mmodels\u001b[39m.\u001b[39;49mload_model(\u001b[39m\"\u001b[39;49m\u001b[39m./models/text_classifier_v1/assets/\u001b[39;49m\u001b[39m\"\u001b[39;49m)\n\u001b[0;32m      6\u001b[0m \u001b[39m# test predictions\u001b[39;00m\n\u001b[0;32m      7\u001b[0m [np\u001b[39m.\u001b[39margmax(pred) \u001b[39mfor\u001b[39;00m pred \u001b[39min\u001b[39;00m new_model\u001b[39m.\u001b[39mpredict(X_val)]\n",
      "File \u001b[1;32mc:\\Users\\franc\\anaconda3\\envs\\BERT\\lib\\site-packages\\keras\\utils\\traceback_utils.py:70\u001b[0m, in \u001b[0;36mfilter_traceback.<locals>.error_handler\u001b[1;34m(*args, **kwargs)\u001b[0m\n\u001b[0;32m     67\u001b[0m     filtered_tb \u001b[39m=\u001b[39m _process_traceback_frames(e\u001b[39m.\u001b[39m__traceback__)\n\u001b[0;32m     68\u001b[0m     \u001b[39m# To get the full stack trace, call:\u001b[39;00m\n\u001b[0;32m     69\u001b[0m     \u001b[39m# `tf.debugging.disable_traceback_filtering()`\u001b[39;00m\n\u001b[1;32m---> 70\u001b[0m     \u001b[39mraise\u001b[39;00m e\u001b[39m.\u001b[39mwith_traceback(filtered_tb) \u001b[39mfrom\u001b[39;00m \u001b[39mNone\u001b[39m\n\u001b[0;32m     71\u001b[0m \u001b[39mfinally\u001b[39;00m:\n\u001b[0;32m     72\u001b[0m     \u001b[39mdel\u001b[39;00m filtered_tb\n",
      "File \u001b[1;32mc:\\Users\\franc\\anaconda3\\envs\\BERT\\lib\\site-packages\\tensorflow\\python\\saved_model\\loader_impl.py:115\u001b[0m, in \u001b[0;36mparse_saved_model\u001b[1;34m(export_dir)\u001b[0m\n\u001b[0;32m    113\u001b[0m     \u001b[39mraise\u001b[39;00m \u001b[39mIOError\u001b[39;00m(\u001b[39mf\u001b[39m\u001b[39m\"\u001b[39m\u001b[39mCannot parse file \u001b[39m\u001b[39m{\u001b[39;00mpath_to_pbtxt\u001b[39m}\u001b[39;00m\u001b[39m: \u001b[39m\u001b[39m{\u001b[39;00m\u001b[39mstr\u001b[39m(e)\u001b[39m}\u001b[39;00m\u001b[39m.\u001b[39m\u001b[39m\"\u001b[39m)\n\u001b[0;32m    114\u001b[0m \u001b[39melse\u001b[39;00m:\n\u001b[1;32m--> 115\u001b[0m   \u001b[39mraise\u001b[39;00m \u001b[39mIOError\u001b[39;00m(\n\u001b[0;32m    116\u001b[0m       \u001b[39mf\u001b[39m\u001b[39m\"\u001b[39m\u001b[39mSavedModel file does not exist at: \u001b[39m\u001b[39m{\u001b[39;00mexport_dir\u001b[39m}\u001b[39;00m\u001b[39m{\u001b[39;00mos\u001b[39m.\u001b[39mpath\u001b[39m.\u001b[39msep\u001b[39m}\u001b[39;00m\u001b[39m\"\u001b[39m\n\u001b[0;32m    117\u001b[0m       \u001b[39mf\u001b[39m\u001b[39m\"\u001b[39m\u001b[39m{{\u001b[39;00m\u001b[39m{\u001b[39;00mconstants\u001b[39m.\u001b[39mSAVED_MODEL_FILENAME_PBTXT\u001b[39m}\u001b[39;00m\u001b[39m|\u001b[39m\u001b[39m\"\u001b[39m\n\u001b[0;32m    118\u001b[0m       \u001b[39mf\u001b[39m\u001b[39m\"\u001b[39m\u001b[39m{\u001b[39;00mconstants\u001b[39m.\u001b[39mSAVED_MODEL_FILENAME_PB\u001b[39m}\u001b[39;00m\u001b[39m}}\u001b[39;00m\u001b[39m\"\u001b[39m)\n",
      "\u001b[1;31mOSError\u001b[0m: SavedModel file does not exist at: ./models/text_classifier_v1/assets/\\{saved_model.pbtxt|saved_model.pb}"
     ]
    }
   ],
   "source": [
    "from tensorflow import keras\n",
    "\n",
    "# load model\n",
    "new_model = keras.models.load_model(\"./models/text_classifier_v1\")\n",
    "\n",
    "# test predictions\n",
    "[np.argmax(pred) for pred in new_model.predict(X_val)]"
   ]
  },
  {
   "attachments": {},
   "cell_type": "markdown",
   "id": "7919021d",
   "metadata": {},
   "source": [
    "*That’s it!*"
   ]
  }
 ],
 "metadata": {
  "kernelspec": {
   "display_name": "BERT",
   "language": "python",
   "name": "python3"
  },
  "language_info": {
   "codemirror_mode": {
    "name": "ipython",
    "version": 3
   },
   "file_extension": ".py",
   "mimetype": "text/x-python",
   "name": "python",
   "nbconvert_exporter": "python",
   "pygments_lexer": "ipython3",
   "version": "3.10.9"
  }
 },
 "nbformat": 4,
 "nbformat_minor": 5
}
