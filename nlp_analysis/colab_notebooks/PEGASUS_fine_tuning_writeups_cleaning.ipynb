{
 "cells": [
  {
   "cell_type": "code",
   "execution_count": null,
   "metadata": {
    "executionInfo": {
     "elapsed": 4333,
     "status": "ok",
     "timestamp": 1682671385761,
     "user": {
      "displayName": "Francesco Lonardo",
      "userId": "15859490455667766654"
     },
     "user_tz": -120
    },
    "id": "PQMFvtNVLwFh"
   },
   "outputs": [],
   "source": [
    "!pip install transformers"
   ]
  },
  {
   "cell_type": "code",
   "execution_count": null,
   "metadata": {},
   "outputs": [],
   "source": [
    "!pip install datasets torch sacrebleu rouge_score py7zr -q"
   ]
  },
  {
   "cell_type": "code",
   "execution_count": null,
   "metadata": {},
   "outputs": [],
   "source": [
    "!pip install sentencepiece"
   ]
  },
  {
   "cell_type": "code",
   "execution_count": null,
   "metadata": {
    "colab": {
     "base_uri": "https://localhost:8080/"
    },
    "executionInfo": {
     "elapsed": 6851,
     "status": "ok",
     "timestamp": 1682671392608,
     "user": {
      "displayName": "Francesco Lonardo",
      "userId": "15859490455667766654"
     },
     "user_tz": -120
    },
    "id": "-ucPm93BMA-q",
    "outputId": "88447815-e7e4-45e8-b748-60a49e628169",
    "scrolled": false
   },
   "outputs": [],
   "source": [
    "from transformers import pipeline, set_seed"
   ]
  },
  {
   "cell_type": "code",
   "execution_count": null,
   "metadata": {},
   "outputs": [],
   "source": [
    "import matplotlib.pyplot as plt\n",
    "\n",
    "import pandas as pd\n",
    "from datasets import load_metric"
   ]
  },
  {
   "cell_type": "code",
   "execution_count": null,
   "metadata": {},
   "outputs": [],
   "source": [
    "import nltk\n",
    "from nltk.tokenize import sent_tokenize\n",
    "from datasets import load_dataset\n",
    "\n",
    "from tqdm import tqdm\n",
    "import torch\n",
    "from datasets import load_dataset\n",
    "\n",
    "import os\n",
    "\n",
    "nltk.download(\"punkt\")"
   ]
  },
  {
   "cell_type": "code",
   "execution_count": null,
   "metadata": {
    "executionInfo": {
     "elapsed": 14493,
     "status": "ok",
     "timestamp": 1682671407096,
     "user": {
      "displayName": "Francesco Lonardo",
      "userId": "15859490455667766654"
     },
     "user_tz": -120
    },
    "id": "i23A2WhNMDN5"
   },
   "outputs": [],
   "source": [
    "from transformers import AutoModelForSeq2SeqLM, AutoTokenizer\n",
    "\n",
    "device = \"cuda\" if torch.cuda.is_available() else \"cpu\"\n",
    "model_ckpt = \"google/pegasus-cnn_dailymail\"  # You can use another checkpoint if you prefer\n",
    "tokenizer = AutoTokenizer.from_pretrained(model_ckpt)\n",
    "model = AutoModelForSeq2SeqLM.from_pretrained(model_ckpt).to(device)"
   ]
  },
  {
   "cell_type": "code",
   "execution_count": null,
   "metadata": {
    "colab": {
     "base_uri": "https://localhost:8080/"
    },
    "executionInfo": {
     "elapsed": 3953,
     "status": "ok",
     "timestamp": 1682671411044,
     "user": {
      "displayName": "Francesco Lonardo",
      "userId": "15859490455667766654"
     },
     "user_tz": -120
    },
    "id": "0NG4_a07MG51",
    "outputId": "68c9714c-15ad-44d6-a5a3-ca2e8b5e8186"
   },
   "outputs": [],
   "source": [
    "from google.colab import drive\n",
    "drive.mount('/content/drive', force_remount=True)"
   ]
  },
  {
   "cell_type": "code",
   "execution_count": null,
   "metadata": {
    "executionInfo": {
     "elapsed": 22,
     "status": "ok",
     "timestamp": 1682671411044,
     "user": {
      "displayName": "Francesco Lonardo",
      "userId": "15859490455667766654"
     },
     "user_tz": -120
    },
    "id": "nwU4I4f8MHp9"
   },
   "outputs": [],
   "source": [
    "drive_path = \"./drive/MyDrive\""
   ]
  },
  {
   "cell_type": "code",
   "execution_count": null,
   "metadata": {
    "colab": {
     "base_uri": "https://localhost:8080/",
     "height": 206
    },
    "executionInfo": {
     "elapsed": 22,
     "status": "ok",
     "timestamp": 1682671411045,
     "user": {
      "displayName": "Francesco Lonardo",
      "userId": "15859490455667766654"
     },
     "user_tz": -120
    },
    "id": "pZCpnEmYML_S",
    "outputId": "e4357017-02b4-49f1-c619-428e51bcd3f2"
   },
   "outputs": [],
   "source": [
    "#Get data\n",
    "df = pd.read_csv(os.path.join(drive_path, 'dataset_writeups_original_cleaned.csv'), sep=',')\n",
    "df = df.dropna().reset_index()\n",
    "\n",
    "#Select part of data we want to keep\n",
    "df = df[['original','cleaned']]\n",
    "\n",
    "#Select only part of it (makes testing faster)\n",
    "writeups = df\n",
    "writeups.head()"
   ]
  },
  {
   "cell_type": "code",
   "execution_count": null,
   "metadata": {
    "colab": {
     "base_uri": "https://localhost:8080/"
    },
    "executionInfo": {
     "elapsed": 19,
     "status": "ok",
     "timestamp": 1682671411045,
     "user": {
      "displayName": "Francesco Lonardo",
      "userId": "15859490455667766654"
     },
     "user_tz": -120
    },
    "id": "m5u664_-MV06",
    "outputId": "2c39f11a-ea51-4425-a12f-906fc4025785"
   },
   "outputs": [],
   "source": [
    "from sklearn.model_selection import train_test_split\n",
    "from datasets import Dataset, DatasetDict\n",
    "\n",
    "# Split the DataFrame into training and test+validation sets\n",
    "train_writeups, temp_writeups = train_test_split(writeups, test_size=0.2, random_state=42)\n",
    "\n",
    "# Split the temporary set into test and validation sets\n",
    "test_writeups, validation_writeups = train_test_split(temp_writeups, test_size=1/2, random_state=42)\n",
    "\n",
    "# Convert the split DataFrames into datasets.Dataset objects\n",
    "train_dataset = Dataset.from_pandas(train_writeups)\n",
    "test_dataset = Dataset.from_pandas(test_writeups)\n",
    "validation_dataset = Dataset.from_pandas(validation_writeups)\n",
    "\n",
    "# Create a datasets.DatasetDict object with the train, test, and validation datasets\n",
    "writeups_dataset = DatasetDict({\"train\": train_dataset, \"test\": test_dataset, \"validation\": validation_dataset})\n",
    "\n",
    "print(writeups_dataset)"
   ]
  },
  {
   "cell_type": "code",
   "execution_count": null,
   "metadata": {
    "colab": {
     "base_uri": "https://localhost:8080/"
    },
    "executionInfo": {
     "elapsed": 16,
     "status": "ok",
     "timestamp": 1682671411047,
     "user": {
      "displayName": "Francesco Lonardo",
      "userId": "15859490455667766654"
     },
     "user_tz": -120
    },
    "id": "7kYlo8YzMdX0",
    "outputId": "f8d868eb-0149-4860-e98d-70fdd620d71a"
   },
   "outputs": [],
   "source": [
    "split_lengths = [len(writeups_dataset[split])for split in writeups_dataset]\n",
    "\n",
    "print(f\"Split lengths: {split_lengths}\")\n",
    "print(f\"Features: {writeups_dataset['train'].column_names}\")\n",
    "print(\"\\nOriginal:\")\n",
    "\n",
    "print(writeups_dataset[\"test\"][0][\"original\"])\n",
    "\n",
    "print(\"\\nCleaned:\")\n",
    "\n",
    "print(writeups_dataset[\"test\"][0][\"cleaned\"])"
   ]
  },
  {
   "cell_type": "code",
   "execution_count": null,
   "metadata": {
    "executionInfo": {
     "elapsed": 13,
     "status": "ok",
     "timestamp": 1682671411047,
     "user": {
      "displayName": "Francesco Lonardo",
      "userId": "15859490455667766654"
     },
     "user_tz": -120
    },
    "id": "IA83XkSiMilU"
   },
   "outputs": [],
   "source": [
    "def generate_batch_sized_chunks(list_of_elements, batch_size):\n",
    "    \"\"\"split the dataset into smaller batches that we can process simultaneously\n",
    "    Yield successive batch-sized chunks from list_of_elements.\"\"\"\n",
    "    for i in range(0, len(list_of_elements), batch_size):\n",
    "        yield list_of_elements[i : i + batch_size]\n",
    "\n",
    "def calculate_metric_on_test_ds(dataset, metric, model, tokenizer, \n",
    "                               batch_size=4,  # Updated batch size to match training settings\n",
    "                               device=device, \n",
    "                               column_text=\"article\", \n",
    "                               column_summary=\"highlights\"):\n",
    "    article_batches = list(generate_batch_sized_chunks(dataset[column_text], batch_size))\n",
    "    target_batches = list(generate_batch_sized_chunks(dataset[column_summary], batch_size))\n",
    "\n",
    "    for article_batch, target_batch in tqdm(\n",
    "        zip(article_batches, target_batches), total=len(article_batches)):\n",
    "        \n",
    "        inputs = tokenizer(article_batch, max_length=1024, truncation=True, \n",
    "                        padding=\"max_length\", return_tensors=\"pt\")\n",
    "        \n",
    "        summaries = model.generate(input_ids=inputs[\"input_ids\"].to(device),\n",
    "                         attention_mask=inputs[\"attention_mask\"].to(device), \n",
    "                         length_penalty=1.0, num_beams=8, max_length=256)\n",
    "        ''' parameter for length penalty ensures that the model does not generate sequences that are too long. '''\n",
    "        \n",
    "        # Finally, we decode the generated texts, \n",
    "        # replace the <n> token, and add the decoded texts with the references to the metric.\n",
    "        decoded_summaries = [tokenizer.decode(s, skip_special_tokens=True, \n",
    "                                clean_up_tokenization_spaces=True) \n",
    "               for s in summaries]      \n",
    "        \n",
    "        decoded_summaries = [d.replace(\"<n>\", \" \") for d in decoded_summaries]\n",
    "        \n",
    "        metric.add_batch(predictions=decoded_summaries, references=target_batch)\n",
    "        \n",
    "    #  Finally compute and return the ROUGE scores.\n",
    "    score = metric.compute()\n",
    "    return score"
   ]
  },
  {
   "cell_type": "code",
   "execution_count": null,
   "metadata": {
    "colab": {
     "base_uri": "https://localhost:8080/"
    },
    "executionInfo": {
     "elapsed": 18745,
     "status": "ok",
     "timestamp": 1682671429780,
     "user": {
      "displayName": "Francesco Lonardo",
      "userId": "15859490455667766654"
     },
     "user_tz": -120
    },
    "id": "poqsJ5R_Mk0G",
    "outputId": "688d2ccb-5f3e-440e-81d4-85f506d8efbe"
   },
   "outputs": [],
   "source": [
    "pipe = pipeline('summarization', model = model_ckpt)\n",
    "pipe_out = pipe(writeups_dataset['test'][0]['original'])\n",
    "\n",
    "print(pipe_out)"
   ]
  },
  {
   "cell_type": "code",
   "execution_count": null,
   "metadata": {
    "colab": {
     "base_uri": "https://localhost:8080/"
    },
    "executionInfo": {
     "elapsed": 17828,
     "status": "ok",
     "timestamp": 1682671447598,
     "user": {
      "displayName": "Francesco Lonardo",
      "userId": "15859490455667766654"
     },
     "user_tz": -120
    },
    "id": "qBLosbCGN6bv",
    "outputId": "babb4652-b8ba-4122-cc5b-4598ec16938e"
   },
   "outputs": [],
   "source": [
    "rouge_metric = load_metric('rouge')\n",
    "rouge_names = [\"rouge1\", \"rouge2\", \"rougeL\", \"rougeLsum\"]\n",
    "\n",
    "score = calculate_metric_on_test_ds(writeups_dataset['test'], rouge_metric, model, tokenizer, column_text='original', column_summary='cleaned', batch_size=4) # Updated batch size to match training settings"
   ]
  },
  {
   "cell_type": "code",
   "execution_count": null,
   "metadata": {
    "executionInfo": {
     "elapsed": 9,
     "status": "ok",
     "timestamp": 1682674864567,
     "user": {
      "displayName": "Francesco Lonardo",
      "userId": "15859490455667766654"
     },
     "user_tz": -120
    },
    "id": "wY3I6BMaN7fb"
   },
   "outputs": [],
   "source": [
    "rouge_dict = dict((rn, score[rn].mid.fmeasure) for rn in rouge_names)\n",
    "rouge_before = pd.DataFrame(rouge_dict, index=['model'])\n",
    "display(rouge_before)"
   ]
  },
  {
   "cell_type": "code",
   "execution_count": null,
   "metadata": {
    "colab": {
     "base_uri": "https://localhost:8080/",
     "height": 425
    },
    "executionInfo": {
     "elapsed": 1739,
     "status": "ok",
     "timestamp": 1682671449329,
     "user": {
      "displayName": "Francesco Lonardo",
      "userId": "15859490455667766654"
     },
     "user_tz": -120
    },
    "id": "ACtzUPY4MuiF",
    "outputId": "d31a848f-7712-4189-9045-b4592bac0c1d"
   },
   "outputs": [],
   "source": [
    "text_token_len = [len(tokenizer.encode(s)) for s in writeups_dataset['train']['original']]\n",
    "cleaned_token_len = [len(tokenizer.encode(s)) for s in writeups_dataset['train']['cleaned']]\n",
    "\n",
    "fig, axes = plt.subplots(1, 2, figsize=(10, 4), sharey=True)\n",
    "axes[0].hist(text_token_len, bins=20, color='C0', edgecolor='C0')\n",
    "axes[0].set_title(\"Original Token Length\")\n",
    "axes[0].set_xlabel(\"Length\")\n",
    "axes[0].set_ylabel(\"Count\")\n",
    "\n",
    "axes[1].hist(cleaned_token_len, bins=20, color='C0', edgecolor='C0')\n",
    "axes[1].set_title(\"Cleaned Token Length\")\n",
    "axes[1].set_xlabel(\"Length\")\n",
    "plt.tight_layout()\n",
    "plt.show()"
   ]
  },
  {
   "cell_type": "code",
   "execution_count": null,
   "metadata": {
    "colab": {
     "base_uri": "https://localhost:8080/",
     "height": 73,
     "referenced_widgets": [
      "88463c5fc0e140d889cfd652127b7020",
      "39b12f0cf20b4c27bfeb3eaa69252569",
      "5d2c9e656a644efb82b7add1bc84f417",
      "63fed6dcb8374b3ab18c2abb7bd8af53",
      "142261319af348038f1796c33f2a5bb2",
      "c3cbb7a0b6174099b21f06e7f7e319ee",
      "1b92987272b54a92be378c0290575780",
      "26735ee2b4bd4e6e963358df50565670",
      "57d3bb83c7d5456ba9283dc2b5ec34e1",
      "a1013230b9564973b970dd9d711bb20e",
      "ab1a8159b99044c8b8e66339faa9dd0a",
      "afd92b5bcc644dbdadc6fa774541fff5",
      "390035f080834d119db98a6c88c9af09",
      "428019866b5f4d909d74ffa4ffd5213e",
      "ffdbb4f70f57441a98f107d6b47993c3",
      "02191bb6a1cb4fd998388e7d7888c1da",
      "1f02d35d75a1414b9a5a8be79177594d",
      "37928217bbd94fac83217438396e1630",
      "09a14e9d625842c5b8a171a68a590254",
      "d645cf925c84426fbb97e96f18e05173",
      "167053fc88f0487086bb280148ea2550",
      "af933b251ec840a8bcd5194c6198d07d",
      "300a785c153e4bdf98ef5d4f280c5718",
      "de103b9aa1974b39805e9cf47dafce40",
      "e5aaed41e398404dbed1a84ccd855a3d",
      "c26e2fa5bb0e4f539360d0f7d38fbc21",
      "ec9f9e9932ec4e51afb1138167a01a34",
      "581f40ae3a8e4fd8951f6618e5361e33",
      "46abc0ae0956441cbd812d25a21f6cd3",
      "b9818858d0fc4ed19e70ff3a95ba0c93",
      "d16e2b5a52c4436bb50b945c748de88c",
      "503f1c7f424349fb9ebc2858d7a4792e",
      "7c57ce62543d4b3da2e69ec4631274b2"
     ]
    },
    "executionInfo": {
     "elapsed": 23,
     "status": "ok",
     "timestamp": 1682671449329,
     "user": {
      "displayName": "Francesco Lonardo",
      "userId": "15859490455667766654"
     },
     "user_tz": -120
    },
    "id": "iXLQXWl4OCOG",
    "outputId": "5957ae2c-ee17-44f3-9fb7-de087e50407f"
   },
   "outputs": [],
   "source": [
    "def convert_examples_to_features(example_batch):\n",
    "    input_encodings = tokenizer(example_batch['original'], max_length=1024, truncation=True)\n",
    "    \n",
    "    with tokenizer.as_target_tokenizer():\n",
    "        target_encodings = tokenizer(example_batch['cleaned'], max_length=256, truncation=True)\n",
    "        \n",
    "    return {\n",
    "        'input_ids': input_encodings['input_ids'],\n",
    "        'attention_mask': input_encodings['attention_mask'],\n",
    "        'labels': target_encodings['input_ids']\n",
    "    }\n",
    "\n",
    "writeups_dataset_pt = {split: ds.map(convert_examples_to_features, batched=True) for split, ds in writeups_dataset.items()}"
   ]
  },
  {
   "cell_type": "code",
   "execution_count": null,
   "metadata": {
    "executionInfo": {
     "elapsed": 16,
     "status": "ok",
     "timestamp": 1682671449330,
     "user": {
      "displayName": "Francesco Lonardo",
      "userId": "15859490455667766654"
     },
     "user_tz": -120
    },
    "id": "CNBNR_YeOTRF"
   },
   "outputs": [],
   "source": [
    "from transformers import DataCollatorForSeq2Seq\n",
    "\n",
    "seq2seq_data_collator = DataCollatorForSeq2Seq(tokenizer, model=model)"
   ]
  },
  {
   "cell_type": "code",
   "execution_count": null,
   "metadata": {
    "executionInfo": {
     "elapsed": 16,
     "status": "ok",
     "timestamp": 1682671449331,
     "user": {
      "displayName": "Francesco Lonardo",
      "userId": "15859490455667766654"
     },
     "user_tz": -120
    },
    "id": "VERE6ck5OWyL"
   },
   "outputs": [],
   "source": [
    "from transformers import TrainingArguments, Trainer\n",
    "\n",
    "training_args = TrainingArguments(\n",
    "    output_dir=\"model\",\n",
    "    num_train_epochs=500,\n",
    "    per_device_train_batch_size=4,  # Increased batch size\n",
    "    per_device_eval_batch_size=4,  # Increased batch size\n",
    "    weight_decay=0.01,\n",
    "    logging_steps=10,\n",
    "    evaluation_strategy='steps',\n",
    "    eval_steps=500,\n",
    "    save_steps=1000,\n",
    "    gradient_accumulation_steps=2,  # Adjusted gradient_accumulation_steps\n",
    "    fp16=True,  # Enable mixed precision training\n",
    "    load_best_model_at_end=True\n",
    ")"
   ]
  },
  {
   "cell_type": "code",
   "execution_count": null,
   "metadata": {
    "executionInfo": {
     "elapsed": 16,
     "status": "ok",
     "timestamp": 1682671449332,
     "user": {
      "displayName": "Francesco Lonardo",
      "userId": "15859490455667766654"
     },
     "user_tz": -120
    },
    "id": "01t-T8H6OdcW"
   },
   "outputs": [],
   "source": [
    "from transformers import EarlyStoppingCallback\n",
    "\n",
    "trainer = Trainer(model=model, args=training_args,\n",
    "                  tokenizer=tokenizer, data_collator=seq2seq_data_collator,\n",
    "                  train_dataset=writeups_dataset_pt[\"train\"],\n",
    "                  eval_dataset=writeups_dataset_pt[\"validation\"],\n",
    "                  callbacks=[EarlyStoppingCallback(early_stopping_patience=10)],  # Stop training when validation loss doesn't improve for 10 epochs\n",
    ")"
   ]
  },
  {
   "cell_type": "code",
   "execution_count": null,
   "metadata": {
    "executionInfo": {
     "elapsed": 15,
     "status": "ok",
     "timestamp": 1682671449332,
     "user": {
      "displayName": "Francesco Lonardo",
      "userId": "15859490455667766654"
     },
     "user_tz": -120
    },
    "id": "jJq-bA80OhPt"
   },
   "outputs": [],
   "source": [
    "os.environ[\"PYTORCH_CUDA_ALLOC_CONF\"] = \"max_split_size_mb=100\" # Updated settings"
   ]
  },
  {
   "cell_type": "code",
   "execution_count": null,
   "metadata": {
    "colab": {
     "base_uri": "https://localhost:8080/",
     "height": 607
    },
    "executionInfo": {
     "elapsed": 3379167,
     "status": "ok",
     "timestamp": 1682674828485,
     "user": {
      "displayName": "Francesco Lonardo",
      "userId": "15859490455667766654"
     },
     "user_tz": -120
    },
    "id": "gTeC6Zy3OiYn",
    "outputId": "ce3b5165-179f-47f0-bd18-1b797ffde27b"
   },
   "outputs": [],
   "source": [
    "trainer.train()\n",
    "\n",
    "score = calculate_metric_on_test_ds(\n",
    "    writeups_dataset['test'], rouge_metric, trainer.model, tokenizer, batch_size=4, column_text='original', column_summary='cleaned'\n",
    ")\n",
    "\n",
    "rouge_dict = dict((rn, score[rn].mid.fmeasure) for rn in rouge_names)\n",
    "rouge_after = pd.DataFrame(rouge_dict, index = [f'model'])\n",
    "display(rouge_before)\n",
    "display(rouge_after)"
   ]
  },
  {
   "cell_type": "code",
   "execution_count": null,
   "metadata": {
    "executionInfo": {
     "elapsed": 20155,
     "status": "ok",
     "timestamp": 1682679539141,
     "user": {
      "displayName": "Francesco Lonardo",
      "userId": "15859490455667766654"
     },
     "user_tz": -120
    },
    "id": "enXLoTL1OmJV"
   },
   "outputs": [],
   "source": [
    "model_path = os.path.join(drive_path, \"cleaning_model\")\n",
    "\n",
    "model.save_pretrained(model_path)\n",
    "tokenizer.save_pretrained(model_path)\n",
    "\n",
    "tuned_model = AutoModelForSeq2SeqLM.from_pretrained(model_path)\n",
    "tuned_tokenizer = AutoTokenizer.from_pretrained(model_path)"
   ]
  },
  {
   "cell_type": "code",
   "execution_count": null,
   "metadata": {
    "executionInfo": {
     "elapsed": 16,
     "status": "ok",
     "timestamp": 1682674850488,
     "user": {
      "displayName": "Francesco Lonardo",
      "userId": "15859490455667766654"
     },
     "user_tz": -120
    },
    "id": "6-Unzk8kOojx"
   },
   "outputs": [],
   "source": [
    "gen_kwargs = {\"length_penalty\": 1.0, \"num_beams\": 8, \"max_length\": 256}"
   ]
  },
  {
   "cell_type": "code",
   "execution_count": null,
   "metadata": {
    "colab": {
     "base_uri": "https://localhost:8080/"
    },
    "executionInfo": {
     "elapsed": 28512,
     "status": "ok",
     "timestamp": 1682677160614,
     "user": {
      "displayName": "Francesco Lonardo",
      "userId": "15859490455667766654"
     },
     "user_tz": -120
    },
    "id": "jAlMcq8KOsYA",
    "outputId": "2b5a6a71-03bf-42d1-acae-fc57448211a0"
   },
   "outputs": [],
   "source": [
    "import random\n",
    "\n",
    "random_index = random.randint(0, len(writeups_dataset[\"test\"]) - 1)\n",
    "sample_text = writeups_dataset[\"test\"][random_index][\"original\"]\n",
    "reference = writeups_dataset[\"test\"][random_index][\"cleaned\"]\n",
    "\n",
    "# Use your fine-tuned model and tokenizer in the pipeline\n",
    "pipe = pipeline(\"summarization\", model=tuned_model, tokenizer=tuned_tokenizer)\n",
    "\n",
    "print(f\"Random index: {random_index}\\n\")\n",
    "\n",
    "print(\"Original:\")\n",
    "print(sample_text)\n",
    "\n",
    "print(\"\\nReference Cleaned:\")\n",
    "print(reference)\n",
    "\n",
    "print(\"\\nModel Cleaned:\")\n",
    "print(pipe(sample_text, **gen_kwargs)[0][\"summary_text\"])"
   ]
  }
 ],
 "metadata": {
  "accelerator": "GPU",
  "colab": {
   "gpuType": "A100",
   "machine_shape": "hm",
   "provenance": []
  },
  "gpuClass": "standard",
  "kernelspec": {
   "display_name": "Python 3 (ipykernel)",
   "language": "python",
   "name": "python3"
  },
  "language_info": {
   "codemirror_mode": {
    "name": "ipython",
    "version": 3
   },
   "file_extension": ".py",
   "mimetype": "text/x-python",
   "name": "python",
   "nbconvert_exporter": "python",
   "pygments_lexer": "ipython3",
   "version": "3.9.12"
  },
  "widgets": {
   "application/vnd.jupyter.widget-state+json": {
    "02191bb6a1cb4fd998388e7d7888c1da": {
     "model_module": "@jupyter-widgets/base",
     "model_module_version": "1.2.0",
     "model_name": "LayoutModel",
     "state": {
      "_model_module": "@jupyter-widgets/base",
      "_model_module_version": "1.2.0",
      "_model_name": "LayoutModel",
      "_view_count": null,
      "_view_module": "@jupyter-widgets/base",
      "_view_module_version": "1.2.0",
      "_view_name": "LayoutView",
      "align_content": null,
      "align_items": null,
      "align_self": null,
      "border": null,
      "bottom": null,
      "display": null,
      "flex": null,
      "flex_flow": null,
      "grid_area": null,
      "grid_auto_columns": null,
      "grid_auto_flow": null,
      "grid_auto_rows": null,
      "grid_column": null,
      "grid_gap": null,
      "grid_row": null,
      "grid_template_areas": null,
      "grid_template_columns": null,
      "grid_template_rows": null,
      "height": null,
      "justify_content": null,
      "justify_items": null,
      "left": null,
      "margin": null,
      "max_height": null,
      "max_width": null,
      "min_height": null,
      "min_width": null,
      "object_fit": null,
      "object_position": null,
      "order": null,
      "overflow": null,
      "overflow_x": null,
      "overflow_y": null,
      "padding": null,
      "right": null,
      "top": null,
      "visibility": "hidden",
      "width": null
     }
    },
    "09a14e9d625842c5b8a171a68a590254": {
     "model_module": "@jupyter-widgets/base",
     "model_module_version": "1.2.0",
     "model_name": "LayoutModel",
     "state": {
      "_model_module": "@jupyter-widgets/base",
      "_model_module_version": "1.2.0",
      "_model_name": "LayoutModel",
      "_view_count": null,
      "_view_module": "@jupyter-widgets/base",
      "_view_module_version": "1.2.0",
      "_view_name": "LayoutView",
      "align_content": null,
      "align_items": null,
      "align_self": null,
      "border": null,
      "bottom": null,
      "display": null,
      "flex": null,
      "flex_flow": null,
      "grid_area": null,
      "grid_auto_columns": null,
      "grid_auto_flow": null,
      "grid_auto_rows": null,
      "grid_column": null,
      "grid_gap": null,
      "grid_row": null,
      "grid_template_areas": null,
      "grid_template_columns": null,
      "grid_template_rows": null,
      "height": null,
      "justify_content": null,
      "justify_items": null,
      "left": null,
      "margin": null,
      "max_height": null,
      "max_width": null,
      "min_height": null,
      "min_width": null,
      "object_fit": null,
      "object_position": null,
      "order": null,
      "overflow": null,
      "overflow_x": null,
      "overflow_y": null,
      "padding": null,
      "right": null,
      "top": null,
      "visibility": null,
      "width": null
     }
    },
    "142261319af348038f1796c33f2a5bb2": {
     "model_module": "@jupyter-widgets/base",
     "model_module_version": "1.2.0",
     "model_name": "LayoutModel",
     "state": {
      "_model_module": "@jupyter-widgets/base",
      "_model_module_version": "1.2.0",
      "_model_name": "LayoutModel",
      "_view_count": null,
      "_view_module": "@jupyter-widgets/base",
      "_view_module_version": "1.2.0",
      "_view_name": "LayoutView",
      "align_content": null,
      "align_items": null,
      "align_self": null,
      "border": null,
      "bottom": null,
      "display": null,
      "flex": null,
      "flex_flow": null,
      "grid_area": null,
      "grid_auto_columns": null,
      "grid_auto_flow": null,
      "grid_auto_rows": null,
      "grid_column": null,
      "grid_gap": null,
      "grid_row": null,
      "grid_template_areas": null,
      "grid_template_columns": null,
      "grid_template_rows": null,
      "height": null,
      "justify_content": null,
      "justify_items": null,
      "left": null,
      "margin": null,
      "max_height": null,
      "max_width": null,
      "min_height": null,
      "min_width": null,
      "object_fit": null,
      "object_position": null,
      "order": null,
      "overflow": null,
      "overflow_x": null,
      "overflow_y": null,
      "padding": null,
      "right": null,
      "top": null,
      "visibility": "hidden",
      "width": null
     }
    },
    "167053fc88f0487086bb280148ea2550": {
     "model_module": "@jupyter-widgets/base",
     "model_module_version": "1.2.0",
     "model_name": "LayoutModel",
     "state": {
      "_model_module": "@jupyter-widgets/base",
      "_model_module_version": "1.2.0",
      "_model_name": "LayoutModel",
      "_view_count": null,
      "_view_module": "@jupyter-widgets/base",
      "_view_module_version": "1.2.0",
      "_view_name": "LayoutView",
      "align_content": null,
      "align_items": null,
      "align_self": null,
      "border": null,
      "bottom": null,
      "display": null,
      "flex": null,
      "flex_flow": null,
      "grid_area": null,
      "grid_auto_columns": null,
      "grid_auto_flow": null,
      "grid_auto_rows": null,
      "grid_column": null,
      "grid_gap": null,
      "grid_row": null,
      "grid_template_areas": null,
      "grid_template_columns": null,
      "grid_template_rows": null,
      "height": null,
      "justify_content": null,
      "justify_items": null,
      "left": null,
      "margin": null,
      "max_height": null,
      "max_width": null,
      "min_height": null,
      "min_width": null,
      "object_fit": null,
      "object_position": null,
      "order": null,
      "overflow": null,
      "overflow_x": null,
      "overflow_y": null,
      "padding": null,
      "right": null,
      "top": null,
      "visibility": null,
      "width": null
     }
    },
    "1b92987272b54a92be378c0290575780": {
     "model_module": "@jupyter-widgets/controls",
     "model_module_version": "1.5.0",
     "model_name": "DescriptionStyleModel",
     "state": {
      "_model_module": "@jupyter-widgets/controls",
      "_model_module_version": "1.5.0",
      "_model_name": "DescriptionStyleModel",
      "_view_count": null,
      "_view_module": "@jupyter-widgets/base",
      "_view_module_version": "1.2.0",
      "_view_name": "StyleView",
      "description_width": ""
     }
    },
    "1f02d35d75a1414b9a5a8be79177594d": {
     "model_module": "@jupyter-widgets/base",
     "model_module_version": "1.2.0",
     "model_name": "LayoutModel",
     "state": {
      "_model_module": "@jupyter-widgets/base",
      "_model_module_version": "1.2.0",
      "_model_name": "LayoutModel",
      "_view_count": null,
      "_view_module": "@jupyter-widgets/base",
      "_view_module_version": "1.2.0",
      "_view_name": "LayoutView",
      "align_content": null,
      "align_items": null,
      "align_self": null,
      "border": null,
      "bottom": null,
      "display": null,
      "flex": null,
      "flex_flow": null,
      "grid_area": null,
      "grid_auto_columns": null,
      "grid_auto_flow": null,
      "grid_auto_rows": null,
      "grid_column": null,
      "grid_gap": null,
      "grid_row": null,
      "grid_template_areas": null,
      "grid_template_columns": null,
      "grid_template_rows": null,
      "height": null,
      "justify_content": null,
      "justify_items": null,
      "left": null,
      "margin": null,
      "max_height": null,
      "max_width": null,
      "min_height": null,
      "min_width": null,
      "object_fit": null,
      "object_position": null,
      "order": null,
      "overflow": null,
      "overflow_x": null,
      "overflow_y": null,
      "padding": null,
      "right": null,
      "top": null,
      "visibility": null,
      "width": null
     }
    },
    "26735ee2b4bd4e6e963358df50565670": {
     "model_module": "@jupyter-widgets/base",
     "model_module_version": "1.2.0",
     "model_name": "LayoutModel",
     "state": {
      "_model_module": "@jupyter-widgets/base",
      "_model_module_version": "1.2.0",
      "_model_name": "LayoutModel",
      "_view_count": null,
      "_view_module": "@jupyter-widgets/base",
      "_view_module_version": "1.2.0",
      "_view_name": "LayoutView",
      "align_content": null,
      "align_items": null,
      "align_self": null,
      "border": null,
      "bottom": null,
      "display": null,
      "flex": null,
      "flex_flow": null,
      "grid_area": null,
      "grid_auto_columns": null,
      "grid_auto_flow": null,
      "grid_auto_rows": null,
      "grid_column": null,
      "grid_gap": null,
      "grid_row": null,
      "grid_template_areas": null,
      "grid_template_columns": null,
      "grid_template_rows": null,
      "height": null,
      "justify_content": null,
      "justify_items": null,
      "left": null,
      "margin": null,
      "max_height": null,
      "max_width": null,
      "min_height": null,
      "min_width": null,
      "object_fit": null,
      "object_position": null,
      "order": null,
      "overflow": null,
      "overflow_x": null,
      "overflow_y": null,
      "padding": null,
      "right": null,
      "top": null,
      "visibility": null,
      "width": null
     }
    },
    "300a785c153e4bdf98ef5d4f280c5718": {
     "model_module": "@jupyter-widgets/controls",
     "model_module_version": "1.5.0",
     "model_name": "HBoxModel",
     "state": {
      "_dom_classes": [],
      "_model_module": "@jupyter-widgets/controls",
      "_model_module_version": "1.5.0",
      "_model_name": "HBoxModel",
      "_view_count": null,
      "_view_module": "@jupyter-widgets/controls",
      "_view_module_version": "1.5.0",
      "_view_name": "HBoxView",
      "box_style": "",
      "children": [
       "IPY_MODEL_de103b9aa1974b39805e9cf47dafce40",
       "IPY_MODEL_e5aaed41e398404dbed1a84ccd855a3d",
       "IPY_MODEL_c26e2fa5bb0e4f539360d0f7d38fbc21"
      ],
      "layout": "IPY_MODEL_ec9f9e9932ec4e51afb1138167a01a34"
     }
    },
    "37928217bbd94fac83217438396e1630": {
     "model_module": "@jupyter-widgets/controls",
     "model_module_version": "1.5.0",
     "model_name": "DescriptionStyleModel",
     "state": {
      "_model_module": "@jupyter-widgets/controls",
      "_model_module_version": "1.5.0",
      "_model_name": "DescriptionStyleModel",
      "_view_count": null,
      "_view_module": "@jupyter-widgets/base",
      "_view_module_version": "1.2.0",
      "_view_name": "StyleView",
      "description_width": ""
     }
    },
    "390035f080834d119db98a6c88c9af09": {
     "model_module": "@jupyter-widgets/controls",
     "model_module_version": "1.5.0",
     "model_name": "HTMLModel",
     "state": {
      "_dom_classes": [],
      "_model_module": "@jupyter-widgets/controls",
      "_model_module_version": "1.5.0",
      "_model_name": "HTMLModel",
      "_view_count": null,
      "_view_module": "@jupyter-widgets/controls",
      "_view_module_version": "1.5.0",
      "_view_name": "HTMLView",
      "description": "",
      "description_tooltip": null,
      "layout": "IPY_MODEL_1f02d35d75a1414b9a5a8be79177594d",
      "placeholder": "​",
      "style": "IPY_MODEL_37928217bbd94fac83217438396e1630",
      "value": "Map:   0%"
     }
    },
    "39b12f0cf20b4c27bfeb3eaa69252569": {
     "model_module": "@jupyter-widgets/controls",
     "model_module_version": "1.5.0",
     "model_name": "HTMLModel",
     "state": {
      "_dom_classes": [],
      "_model_module": "@jupyter-widgets/controls",
      "_model_module_version": "1.5.0",
      "_model_name": "HTMLModel",
      "_view_count": null,
      "_view_module": "@jupyter-widgets/controls",
      "_view_module_version": "1.5.0",
      "_view_name": "HTMLView",
      "description": "",
      "description_tooltip": null,
      "layout": "IPY_MODEL_c3cbb7a0b6174099b21f06e7f7e319ee",
      "placeholder": "​",
      "style": "IPY_MODEL_1b92987272b54a92be378c0290575780",
      "value": "Map: 100%"
     }
    },
    "428019866b5f4d909d74ffa4ffd5213e": {
     "model_module": "@jupyter-widgets/controls",
     "model_module_version": "1.5.0",
     "model_name": "FloatProgressModel",
     "state": {
      "_dom_classes": [],
      "_model_module": "@jupyter-widgets/controls",
      "_model_module_version": "1.5.0",
      "_model_name": "FloatProgressModel",
      "_view_count": null,
      "_view_module": "@jupyter-widgets/controls",
      "_view_module_version": "1.5.0",
      "_view_name": "ProgressView",
      "bar_style": "",
      "description": "",
      "description_tooltip": null,
      "layout": "IPY_MODEL_09a14e9d625842c5b8a171a68a590254",
      "max": 16,
      "min": 0,
      "orientation": "horizontal",
      "style": "IPY_MODEL_d645cf925c84426fbb97e96f18e05173",
      "value": 16
     }
    },
    "46abc0ae0956441cbd812d25a21f6cd3": {
     "model_module": "@jupyter-widgets/controls",
     "model_module_version": "1.5.0",
     "model_name": "DescriptionStyleModel",
     "state": {
      "_model_module": "@jupyter-widgets/controls",
      "_model_module_version": "1.5.0",
      "_model_name": "DescriptionStyleModel",
      "_view_count": null,
      "_view_module": "@jupyter-widgets/base",
      "_view_module_version": "1.2.0",
      "_view_name": "StyleView",
      "description_width": ""
     }
    },
    "503f1c7f424349fb9ebc2858d7a4792e": {
     "model_module": "@jupyter-widgets/base",
     "model_module_version": "1.2.0",
     "model_name": "LayoutModel",
     "state": {
      "_model_module": "@jupyter-widgets/base",
      "_model_module_version": "1.2.0",
      "_model_name": "LayoutModel",
      "_view_count": null,
      "_view_module": "@jupyter-widgets/base",
      "_view_module_version": "1.2.0",
      "_view_name": "LayoutView",
      "align_content": null,
      "align_items": null,
      "align_self": null,
      "border": null,
      "bottom": null,
      "display": null,
      "flex": null,
      "flex_flow": null,
      "grid_area": null,
      "grid_auto_columns": null,
      "grid_auto_flow": null,
      "grid_auto_rows": null,
      "grid_column": null,
      "grid_gap": null,
      "grid_row": null,
      "grid_template_areas": null,
      "grid_template_columns": null,
      "grid_template_rows": null,
      "height": null,
      "justify_content": null,
      "justify_items": null,
      "left": null,
      "margin": null,
      "max_height": null,
      "max_width": null,
      "min_height": null,
      "min_width": null,
      "object_fit": null,
      "object_position": null,
      "order": null,
      "overflow": null,
      "overflow_x": null,
      "overflow_y": null,
      "padding": null,
      "right": null,
      "top": null,
      "visibility": null,
      "width": null
     }
    },
    "57d3bb83c7d5456ba9283dc2b5ec34e1": {
     "model_module": "@jupyter-widgets/controls",
     "model_module_version": "1.5.0",
     "model_name": "ProgressStyleModel",
     "state": {
      "_model_module": "@jupyter-widgets/controls",
      "_model_module_version": "1.5.0",
      "_model_name": "ProgressStyleModel",
      "_view_count": null,
      "_view_module": "@jupyter-widgets/base",
      "_view_module_version": "1.2.0",
      "_view_name": "StyleView",
      "bar_color": null,
      "description_width": ""
     }
    },
    "581f40ae3a8e4fd8951f6618e5361e33": {
     "model_module": "@jupyter-widgets/base",
     "model_module_version": "1.2.0",
     "model_name": "LayoutModel",
     "state": {
      "_model_module": "@jupyter-widgets/base",
      "_model_module_version": "1.2.0",
      "_model_name": "LayoutModel",
      "_view_count": null,
      "_view_module": "@jupyter-widgets/base",
      "_view_module_version": "1.2.0",
      "_view_name": "LayoutView",
      "align_content": null,
      "align_items": null,
      "align_self": null,
      "border": null,
      "bottom": null,
      "display": null,
      "flex": null,
      "flex_flow": null,
      "grid_area": null,
      "grid_auto_columns": null,
      "grid_auto_flow": null,
      "grid_auto_rows": null,
      "grid_column": null,
      "grid_gap": null,
      "grid_row": null,
      "grid_template_areas": null,
      "grid_template_columns": null,
      "grid_template_rows": null,
      "height": null,
      "justify_content": null,
      "justify_items": null,
      "left": null,
      "margin": null,
      "max_height": null,
      "max_width": null,
      "min_height": null,
      "min_width": null,
      "object_fit": null,
      "object_position": null,
      "order": null,
      "overflow": null,
      "overflow_x": null,
      "overflow_y": null,
      "padding": null,
      "right": null,
      "top": null,
      "visibility": null,
      "width": null
     }
    },
    "5d2c9e656a644efb82b7add1bc84f417": {
     "model_module": "@jupyter-widgets/controls",
     "model_module_version": "1.5.0",
     "model_name": "FloatProgressModel",
     "state": {
      "_dom_classes": [],
      "_model_module": "@jupyter-widgets/controls",
      "_model_module_version": "1.5.0",
      "_model_name": "FloatProgressModel",
      "_view_count": null,
      "_view_module": "@jupyter-widgets/controls",
      "_view_module_version": "1.5.0",
      "_view_name": "ProgressView",
      "bar_style": "",
      "description": "",
      "description_tooltip": null,
      "layout": "IPY_MODEL_26735ee2b4bd4e6e963358df50565670",
      "max": 125,
      "min": 0,
      "orientation": "horizontal",
      "style": "IPY_MODEL_57d3bb83c7d5456ba9283dc2b5ec34e1",
      "value": 125
     }
    },
    "63fed6dcb8374b3ab18c2abb7bd8af53": {
     "model_module": "@jupyter-widgets/controls",
     "model_module_version": "1.5.0",
     "model_name": "HTMLModel",
     "state": {
      "_dom_classes": [],
      "_model_module": "@jupyter-widgets/controls",
      "_model_module_version": "1.5.0",
      "_model_name": "HTMLModel",
      "_view_count": null,
      "_view_module": "@jupyter-widgets/controls",
      "_view_module_version": "1.5.0",
      "_view_name": "HTMLView",
      "description": "",
      "description_tooltip": null,
      "layout": "IPY_MODEL_a1013230b9564973b970dd9d711bb20e",
      "placeholder": "​",
      "style": "IPY_MODEL_ab1a8159b99044c8b8e66339faa9dd0a",
      "value": " 125/125 [00:00&lt;00:00, 505.22 examples/s]"
     }
    },
    "7c57ce62543d4b3da2e69ec4631274b2": {
     "model_module": "@jupyter-widgets/controls",
     "model_module_version": "1.5.0",
     "model_name": "DescriptionStyleModel",
     "state": {
      "_model_module": "@jupyter-widgets/controls",
      "_model_module_version": "1.5.0",
      "_model_name": "DescriptionStyleModel",
      "_view_count": null,
      "_view_module": "@jupyter-widgets/base",
      "_view_module_version": "1.2.0",
      "_view_name": "StyleView",
      "description_width": ""
     }
    },
    "88463c5fc0e140d889cfd652127b7020": {
     "model_module": "@jupyter-widgets/controls",
     "model_module_version": "1.5.0",
     "model_name": "HBoxModel",
     "state": {
      "_dom_classes": [],
      "_model_module": "@jupyter-widgets/controls",
      "_model_module_version": "1.5.0",
      "_model_name": "HBoxModel",
      "_view_count": null,
      "_view_module": "@jupyter-widgets/controls",
      "_view_module_version": "1.5.0",
      "_view_name": "HBoxView",
      "box_style": "",
      "children": [
       "IPY_MODEL_39b12f0cf20b4c27bfeb3eaa69252569",
       "IPY_MODEL_5d2c9e656a644efb82b7add1bc84f417",
       "IPY_MODEL_63fed6dcb8374b3ab18c2abb7bd8af53"
      ],
      "layout": "IPY_MODEL_142261319af348038f1796c33f2a5bb2"
     }
    },
    "a1013230b9564973b970dd9d711bb20e": {
     "model_module": "@jupyter-widgets/base",
     "model_module_version": "1.2.0",
     "model_name": "LayoutModel",
     "state": {
      "_model_module": "@jupyter-widgets/base",
      "_model_module_version": "1.2.0",
      "_model_name": "LayoutModel",
      "_view_count": null,
      "_view_module": "@jupyter-widgets/base",
      "_view_module_version": "1.2.0",
      "_view_name": "LayoutView",
      "align_content": null,
      "align_items": null,
      "align_self": null,
      "border": null,
      "bottom": null,
      "display": null,
      "flex": null,
      "flex_flow": null,
      "grid_area": null,
      "grid_auto_columns": null,
      "grid_auto_flow": null,
      "grid_auto_rows": null,
      "grid_column": null,
      "grid_gap": null,
      "grid_row": null,
      "grid_template_areas": null,
      "grid_template_columns": null,
      "grid_template_rows": null,
      "height": null,
      "justify_content": null,
      "justify_items": null,
      "left": null,
      "margin": null,
      "max_height": null,
      "max_width": null,
      "min_height": null,
      "min_width": null,
      "object_fit": null,
      "object_position": null,
      "order": null,
      "overflow": null,
      "overflow_x": null,
      "overflow_y": null,
      "padding": null,
      "right": null,
      "top": null,
      "visibility": null,
      "width": null
     }
    },
    "ab1a8159b99044c8b8e66339faa9dd0a": {
     "model_module": "@jupyter-widgets/controls",
     "model_module_version": "1.5.0",
     "model_name": "DescriptionStyleModel",
     "state": {
      "_model_module": "@jupyter-widgets/controls",
      "_model_module_version": "1.5.0",
      "_model_name": "DescriptionStyleModel",
      "_view_count": null,
      "_view_module": "@jupyter-widgets/base",
      "_view_module_version": "1.2.0",
      "_view_name": "StyleView",
      "description_width": ""
     }
    },
    "af933b251ec840a8bcd5194c6198d07d": {
     "model_module": "@jupyter-widgets/controls",
     "model_module_version": "1.5.0",
     "model_name": "DescriptionStyleModel",
     "state": {
      "_model_module": "@jupyter-widgets/controls",
      "_model_module_version": "1.5.0",
      "_model_name": "DescriptionStyleModel",
      "_view_count": null,
      "_view_module": "@jupyter-widgets/base",
      "_view_module_version": "1.2.0",
      "_view_name": "StyleView",
      "description_width": ""
     }
    },
    "afd92b5bcc644dbdadc6fa774541fff5": {
     "model_module": "@jupyter-widgets/controls",
     "model_module_version": "1.5.0",
     "model_name": "HBoxModel",
     "state": {
      "_dom_classes": [],
      "_model_module": "@jupyter-widgets/controls",
      "_model_module_version": "1.5.0",
      "_model_name": "HBoxModel",
      "_view_count": null,
      "_view_module": "@jupyter-widgets/controls",
      "_view_module_version": "1.5.0",
      "_view_name": "HBoxView",
      "box_style": "",
      "children": [
       "IPY_MODEL_390035f080834d119db98a6c88c9af09",
       "IPY_MODEL_428019866b5f4d909d74ffa4ffd5213e",
       "IPY_MODEL_ffdbb4f70f57441a98f107d6b47993c3"
      ],
      "layout": "IPY_MODEL_02191bb6a1cb4fd998388e7d7888c1da"
     }
    },
    "b9818858d0fc4ed19e70ff3a95ba0c93": {
     "model_module": "@jupyter-widgets/base",
     "model_module_version": "1.2.0",
     "model_name": "LayoutModel",
     "state": {
      "_model_module": "@jupyter-widgets/base",
      "_model_module_version": "1.2.0",
      "_model_name": "LayoutModel",
      "_view_count": null,
      "_view_module": "@jupyter-widgets/base",
      "_view_module_version": "1.2.0",
      "_view_name": "LayoutView",
      "align_content": null,
      "align_items": null,
      "align_self": null,
      "border": null,
      "bottom": null,
      "display": null,
      "flex": null,
      "flex_flow": null,
      "grid_area": null,
      "grid_auto_columns": null,
      "grid_auto_flow": null,
      "grid_auto_rows": null,
      "grid_column": null,
      "grid_gap": null,
      "grid_row": null,
      "grid_template_areas": null,
      "grid_template_columns": null,
      "grid_template_rows": null,
      "height": null,
      "justify_content": null,
      "justify_items": null,
      "left": null,
      "margin": null,
      "max_height": null,
      "max_width": null,
      "min_height": null,
      "min_width": null,
      "object_fit": null,
      "object_position": null,
      "order": null,
      "overflow": null,
      "overflow_x": null,
      "overflow_y": null,
      "padding": null,
      "right": null,
      "top": null,
      "visibility": null,
      "width": null
     }
    },
    "c26e2fa5bb0e4f539360d0f7d38fbc21": {
     "model_module": "@jupyter-widgets/controls",
     "model_module_version": "1.5.0",
     "model_name": "HTMLModel",
     "state": {
      "_dom_classes": [],
      "_model_module": "@jupyter-widgets/controls",
      "_model_module_version": "1.5.0",
      "_model_name": "HTMLModel",
      "_view_count": null,
      "_view_module": "@jupyter-widgets/controls",
      "_view_module_version": "1.5.0",
      "_view_name": "HTMLView",
      "description": "",
      "description_tooltip": null,
      "layout": "IPY_MODEL_503f1c7f424349fb9ebc2858d7a4792e",
      "placeholder": "​",
      "style": "IPY_MODEL_7c57ce62543d4b3da2e69ec4631274b2",
      "value": " 0/16 [00:00&lt;?, ? examples/s]"
     }
    },
    "c3cbb7a0b6174099b21f06e7f7e319ee": {
     "model_module": "@jupyter-widgets/base",
     "model_module_version": "1.2.0",
     "model_name": "LayoutModel",
     "state": {
      "_model_module": "@jupyter-widgets/base",
      "_model_module_version": "1.2.0",
      "_model_name": "LayoutModel",
      "_view_count": null,
      "_view_module": "@jupyter-widgets/base",
      "_view_module_version": "1.2.0",
      "_view_name": "LayoutView",
      "align_content": null,
      "align_items": null,
      "align_self": null,
      "border": null,
      "bottom": null,
      "display": null,
      "flex": null,
      "flex_flow": null,
      "grid_area": null,
      "grid_auto_columns": null,
      "grid_auto_flow": null,
      "grid_auto_rows": null,
      "grid_column": null,
      "grid_gap": null,
      "grid_row": null,
      "grid_template_areas": null,
      "grid_template_columns": null,
      "grid_template_rows": null,
      "height": null,
      "justify_content": null,
      "justify_items": null,
      "left": null,
      "margin": null,
      "max_height": null,
      "max_width": null,
      "min_height": null,
      "min_width": null,
      "object_fit": null,
      "object_position": null,
      "order": null,
      "overflow": null,
      "overflow_x": null,
      "overflow_y": null,
      "padding": null,
      "right": null,
      "top": null,
      "visibility": null,
      "width": null
     }
    },
    "d16e2b5a52c4436bb50b945c748de88c": {
     "model_module": "@jupyter-widgets/controls",
     "model_module_version": "1.5.0",
     "model_name": "ProgressStyleModel",
     "state": {
      "_model_module": "@jupyter-widgets/controls",
      "_model_module_version": "1.5.0",
      "_model_name": "ProgressStyleModel",
      "_view_count": null,
      "_view_module": "@jupyter-widgets/base",
      "_view_module_version": "1.2.0",
      "_view_name": "StyleView",
      "bar_color": null,
      "description_width": ""
     }
    },
    "d645cf925c84426fbb97e96f18e05173": {
     "model_module": "@jupyter-widgets/controls",
     "model_module_version": "1.5.0",
     "model_name": "ProgressStyleModel",
     "state": {
      "_model_module": "@jupyter-widgets/controls",
      "_model_module_version": "1.5.0",
      "_model_name": "ProgressStyleModel",
      "_view_count": null,
      "_view_module": "@jupyter-widgets/base",
      "_view_module_version": "1.2.0",
      "_view_name": "StyleView",
      "bar_color": null,
      "description_width": ""
     }
    },
    "de103b9aa1974b39805e9cf47dafce40": {
     "model_module": "@jupyter-widgets/controls",
     "model_module_version": "1.5.0",
     "model_name": "HTMLModel",
     "state": {
      "_dom_classes": [],
      "_model_module": "@jupyter-widgets/controls",
      "_model_module_version": "1.5.0",
      "_model_name": "HTMLModel",
      "_view_count": null,
      "_view_module": "@jupyter-widgets/controls",
      "_view_module_version": "1.5.0",
      "_view_name": "HTMLView",
      "description": "",
      "description_tooltip": null,
      "layout": "IPY_MODEL_581f40ae3a8e4fd8951f6618e5361e33",
      "placeholder": "​",
      "style": "IPY_MODEL_46abc0ae0956441cbd812d25a21f6cd3",
      "value": "Map:   0%"
     }
    },
    "e5aaed41e398404dbed1a84ccd855a3d": {
     "model_module": "@jupyter-widgets/controls",
     "model_module_version": "1.5.0",
     "model_name": "FloatProgressModel",
     "state": {
      "_dom_classes": [],
      "_model_module": "@jupyter-widgets/controls",
      "_model_module_version": "1.5.0",
      "_model_name": "FloatProgressModel",
      "_view_count": null,
      "_view_module": "@jupyter-widgets/controls",
      "_view_module_version": "1.5.0",
      "_view_name": "ProgressView",
      "bar_style": "",
      "description": "",
      "description_tooltip": null,
      "layout": "IPY_MODEL_b9818858d0fc4ed19e70ff3a95ba0c93",
      "max": 16,
      "min": 0,
      "orientation": "horizontal",
      "style": "IPY_MODEL_d16e2b5a52c4436bb50b945c748de88c",
      "value": 16
     }
    },
    "ec9f9e9932ec4e51afb1138167a01a34": {
     "model_module": "@jupyter-widgets/base",
     "model_module_version": "1.2.0",
     "model_name": "LayoutModel",
     "state": {
      "_model_module": "@jupyter-widgets/base",
      "_model_module_version": "1.2.0",
      "_model_name": "LayoutModel",
      "_view_count": null,
      "_view_module": "@jupyter-widgets/base",
      "_view_module_version": "1.2.0",
      "_view_name": "LayoutView",
      "align_content": null,
      "align_items": null,
      "align_self": null,
      "border": null,
      "bottom": null,
      "display": null,
      "flex": null,
      "flex_flow": null,
      "grid_area": null,
      "grid_auto_columns": null,
      "grid_auto_flow": null,
      "grid_auto_rows": null,
      "grid_column": null,
      "grid_gap": null,
      "grid_row": null,
      "grid_template_areas": null,
      "grid_template_columns": null,
      "grid_template_rows": null,
      "height": null,
      "justify_content": null,
      "justify_items": null,
      "left": null,
      "margin": null,
      "max_height": null,
      "max_width": null,
      "min_height": null,
      "min_width": null,
      "object_fit": null,
      "object_position": null,
      "order": null,
      "overflow": null,
      "overflow_x": null,
      "overflow_y": null,
      "padding": null,
      "right": null,
      "top": null,
      "visibility": "hidden",
      "width": null
     }
    },
    "ffdbb4f70f57441a98f107d6b47993c3": {
     "model_module": "@jupyter-widgets/controls",
     "model_module_version": "1.5.0",
     "model_name": "HTMLModel",
     "state": {
      "_dom_classes": [],
      "_model_module": "@jupyter-widgets/controls",
      "_model_module_version": "1.5.0",
      "_model_name": "HTMLModel",
      "_view_count": null,
      "_view_module": "@jupyter-widgets/controls",
      "_view_module_version": "1.5.0",
      "_view_name": "HTMLView",
      "description": "",
      "description_tooltip": null,
      "layout": "IPY_MODEL_167053fc88f0487086bb280148ea2550",
      "placeholder": "​",
      "style": "IPY_MODEL_af933b251ec840a8bcd5194c6198d07d",
      "value": " 0/16 [00:00&lt;?, ? examples/s]"
     }
    }
   }
  }
 },
 "nbformat": 4,
 "nbformat_minor": 1
}
